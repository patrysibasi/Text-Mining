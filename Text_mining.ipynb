{
 "cells": [
  {
   "cell_type": "markdown",
   "metadata": {},
   "source": [
    "# <span style=\"color:#25dbea \"> Źródło </span>\n"
   ]
  },
  {
   "cell_type": "markdown",
   "metadata": {},
   "source": [
    "https://www.kaggle.com/datasets/andrewmvd/trip-advisor-hotel-reviews"
   ]
  },
  {
   "cell_type": "markdown",
   "metadata": {},
   "source": [
    "autor: Patryk Bednarski"
   ]
  },
  {
   "cell_type": "markdown",
   "metadata": {},
   "source": [
    "# <span style=\"color:#25dbea \"> Biblioteki </span>"
   ]
  },
  {
   "cell_type": "code",
   "execution_count": 9,
   "metadata": {},
   "outputs": [],
   "source": [
    "import os\n",
    "import pandas as pd\n",
    "from tqdm import tqdm\n",
    "import nltk\n",
    "from nltk import word_tokenize"
   ]
  },
  {
   "cell_type": "code",
   "execution_count": 10,
   "metadata": {},
   "outputs": [],
   "source": [
    "import matplotlib.pyplot as plt"
   ]
  },
  {
   "cell_type": "code",
   "execution_count": 11,
   "metadata": {},
   "outputs": [],
   "source": [
    "import numpy as np \n",
    "import seaborn as sns"
   ]
  },
  {
   "cell_type": "code",
   "execution_count": 12,
   "metadata": {},
   "outputs": [],
   "source": [
    "from collections import Counter"
   ]
  },
  {
   "cell_type": "code",
   "execution_count": 13,
   "metadata": {},
   "outputs": [],
   "source": [
    "from nltk.corpus import stopwords"
   ]
  },
  {
   "cell_type": "code",
   "execution_count": 14,
   "metadata": {},
   "outputs": [
    {
     "name": "stderr",
     "output_type": "stream",
     "text": [
      "[nltk_data] Downloading package punkt to\n",
      "[nltk_data]     C:\\Users\\PLK077069\\AppData\\Roaming\\nltk_data...\n",
      "[nltk_data]   Package punkt is already up-to-date!\n"
     ]
    },
    {
     "data": {
      "text/plain": [
       "True"
      ]
     },
     "execution_count": 14,
     "metadata": {},
     "output_type": "execute_result"
    }
   ],
   "source": [
    "nltk.download('punkt')"
   ]
  },
  {
   "cell_type": "markdown",
   "metadata": {},
   "source": [
    "# <span style=\"color:#25dbea \"> Wczytanie i eksploracja danych </span>"
   ]
  },
  {
   "cell_type": "markdown",
   "metadata": {},
   "source": [
    "### <span style=\"color: #25ea3a\"> Wczytanie danych i wstępne zapoznanie </span>"
   ]
  },
  {
   "cell_type": "markdown",
   "metadata": {},
   "source": [
    "https://www.kaggle.com/datasets/andrewmvd/trip-advisor-hotel-reviews"
   ]
  },
  {
   "cell_type": "code",
   "execution_count": 15,
   "metadata": {},
   "outputs": [],
   "source": [
    "df = pd.read_csv('tripadvisor_hotel_reviews.csv')"
   ]
  },
  {
   "cell_type": "code",
   "execution_count": 16,
   "metadata": {},
   "outputs": [
    {
     "data": {
      "text/html": [
       "<div>\n",
       "<style scoped>\n",
       "    .dataframe tbody tr th:only-of-type {\n",
       "        vertical-align: middle;\n",
       "    }\n",
       "\n",
       "    .dataframe tbody tr th {\n",
       "        vertical-align: top;\n",
       "    }\n",
       "\n",
       "    .dataframe thead th {\n",
       "        text-align: right;\n",
       "    }\n",
       "</style>\n",
       "<table border=\"1\" class=\"dataframe\">\n",
       "  <thead>\n",
       "    <tr style=\"text-align: right;\">\n",
       "      <th></th>\n",
       "      <th>Review</th>\n",
       "      <th>Rating</th>\n",
       "    </tr>\n",
       "  </thead>\n",
       "  <tbody>\n",
       "    <tr>\n",
       "      <th>0</th>\n",
       "      <td>nice hotel expensive parking got good deal sta...</td>\n",
       "      <td>4</td>\n",
       "    </tr>\n",
       "    <tr>\n",
       "      <th>1</th>\n",
       "      <td>ok nothing special charge diamond member hilto...</td>\n",
       "      <td>2</td>\n",
       "    </tr>\n",
       "    <tr>\n",
       "      <th>2</th>\n",
       "      <td>nice rooms not 4* experience hotel monaco seat...</td>\n",
       "      <td>3</td>\n",
       "    </tr>\n",
       "    <tr>\n",
       "      <th>3</th>\n",
       "      <td>unique, great stay, wonderful time hotel monac...</td>\n",
       "      <td>5</td>\n",
       "    </tr>\n",
       "    <tr>\n",
       "      <th>4</th>\n",
       "      <td>great stay great stay, went seahawk game aweso...</td>\n",
       "      <td>5</td>\n",
       "    </tr>\n",
       "  </tbody>\n",
       "</table>\n",
       "</div>"
      ],
      "text/plain": [
       "                                              Review  Rating\n",
       "0  nice hotel expensive parking got good deal sta...       4\n",
       "1  ok nothing special charge diamond member hilto...       2\n",
       "2  nice rooms not 4* experience hotel monaco seat...       3\n",
       "3  unique, great stay, wonderful time hotel monac...       5\n",
       "4  great stay great stay, went seahawk game aweso...       5"
      ]
     },
     "execution_count": 16,
     "metadata": {},
     "output_type": "execute_result"
    }
   ],
   "source": [
    "df.head()"
   ]
  },
  {
   "cell_type": "markdown",
   "metadata": {},
   "source": [
    "Zbiór danych przedstawia oceny hoteli na portalu Tripadvisor.\n",
    "\n",
    "W kolumnie Review zapisana została pisemna recenczja hotelu pozostawiona przez użytkownika.\n",
    "\n",
    "W kolumnie Rating znajduje się liczbowa ocena w skali 1 - 5, gdzie 5 jest oceną najlepszą."
   ]
  },
  {
   "cell_type": "code",
   "execution_count": 17,
   "metadata": {},
   "outputs": [
    {
     "data": {
      "text/plain": [
       "20491"
      ]
     },
     "execution_count": 17,
     "metadata": {},
     "output_type": "execute_result"
    }
   ],
   "source": [
    "# Liczba wierszy w data frame\n",
    "len(df.Review)"
   ]
  },
  {
   "cell_type": "code",
   "execution_count": 18,
   "metadata": {},
   "outputs": [
    {
     "data": {
      "text/plain": [
       "0"
      ]
     },
     "execution_count": 18,
     "metadata": {},
     "output_type": "execute_result"
    }
   ],
   "source": [
    "# sprawdzanie brakujących wartości\n",
    "df['Review'].isnull().sum()"
   ]
  },
  {
   "cell_type": "code",
   "execution_count": 19,
   "metadata": {},
   "outputs": [
    {
     "data": {
      "text/plain": [
       "'ok nothing special charge diamond member hilton decided chain shot 20th anniversary seattle, start booked suite paid extra website description not, suite bedroom bathroom standard hotel room, took printed reservation desk showed said things like tv couch ect desk clerk told oh mixed suites description kimpton website sorry free breakfast, got kidding, embassy suits sitting room bathroom bedroom unlike kimpton calls suite, 5 day stay offer correct false advertising, send kimpton preferred guest website email asking failure provide suite advertised website reservation description furnished hard copy reservation printout website desk manager duty did not reply solution, send email trip guest survey did not follow email mail, guess tell concerned guest.the staff ranged indifferent not helpful, asked desk good breakfast spots neighborhood hood told no hotels, gee best breakfast spots seattle 1/2 block away convenient hotel does not know exist, arrived late night 11 pm inside run bellman busy chating cell phone help bags.prior arrival emailed hotel inform 20th anniversary half really picky wanted make sure good, got nice email saying like deliver bottle champagne chocolate covered strawberries room arrival celebrate, told needed foam pillows, arrival no champagne strawberries no foam pillows great room view alley high rise building good not better housekeeping staff cleaner room property, impressed left morning shopping room got short trips 2 hours, beds comfortable.not good ac-heat control 4 x 4 inch screen bring green shine directly eyes night, light sensitive tape controls.this not 4 start hotel clean business hotel super high rates, better chain hotels seattle,  '"
      ]
     },
     "execution_count": 19,
     "metadata": {},
     "output_type": "execute_result"
    }
   ],
   "source": [
    "## Badanie przykładowego rekordu\n",
    "### Wyświetlenie zawartości kolumny Review z wiersza o indeksie 1\n",
    "df['Review'].iloc[1]"
   ]
  },
  {
   "cell_type": "code",
   "execution_count": 20,
   "metadata": {},
   "outputs": [
    {
     "data": {
      "text/plain": [
       "1689"
      ]
     },
     "execution_count": 20,
     "metadata": {},
     "output_type": "execute_result"
    }
   ],
   "source": [
    "## Ilość znaków w przykładowym rekordzie\n",
    "len(df['Review'].iloc[1])"
   ]
  },
  {
   "cell_type": "code",
   "execution_count": 21,
   "metadata": {},
   "outputs": [
    {
     "data": {
      "text/plain": [
       "250"
      ]
     },
     "execution_count": 21,
     "metadata": {},
     "output_type": "execute_result"
    }
   ],
   "source": [
    "## Ilość słów w przykładowym rekordzie\n",
    "len(df['Review'].iloc[1].split())"
   ]
  },
  {
   "cell_type": "markdown",
   "metadata": {},
   "source": [
    "### <span style=\"color: #25ea3a\"> Liczba znaków w kolumnie Review </span>"
   ]
  },
  {
   "cell_type": "code",
   "execution_count": 22,
   "metadata": {},
   "outputs": [
    {
     "data": {
      "text/plain": [
       "0     593\n",
       "1    1689\n",
       "2    1427\n",
       "3     600\n",
       "4    1281\n",
       "5    1002\n",
       "6     748\n",
       "7     597\n",
       "8     419\n",
       "9     271\n",
       "Name: Review, dtype: int64"
      ]
     },
     "execution_count": 22,
     "metadata": {},
     "output_type": "execute_result"
    }
   ],
   "source": [
    "# Liczba ZNAKÓW w rekordach z kolumny Review dla 10 pierwszych rzędów\n",
    "df['Review'].head(10).str.len()"
   ]
  },
  {
   "cell_type": "code",
   "execution_count": 23,
   "metadata": {},
   "outputs": [
    {
     "data": {
      "image/png": "[encoded data removed]",
      "text/plain": [
       "<Figure size 640x480 with 1 Axes>"
      ]
     },
     "metadata": {},
     "output_type": "display_data"
    }
   ],
   "source": [
    "# Histogram obrazujący ilość rekordów (oś Y) \n",
    "# z określoną liczbą znaków (oś X) w kolumnie Review.\n",
    "plt.hist(df['Review'].str.len(), bins = 200)\n",
    "plt.xlim(0, 6000) # ogarniczenie osi X do 6000 dla lepszej widoczności\n",
    "plt.xlabel('Liczba znaków')\n",
    "plt.ylabel('Liczba rekordów')\n",
    "plt.show()"
   ]
  },
  {
   "cell_type": "code",
   "execution_count": 24,
   "metadata": {},
   "outputs": [
    {
     "data": {
      "text/plain": [
       "count    20491.000000\n",
       "mean       724.896833\n",
       "std        689.101024\n",
       "min         44.000000\n",
       "25%        339.000000\n",
       "50%        537.000000\n",
       "75%        859.000000\n",
       "max      13501.000000\n",
       "Name: Review, dtype: float64"
      ]
     },
     "execution_count": 24,
     "metadata": {},
     "output_type": "execute_result"
    }
   ],
   "source": [
    "# Analiza rozkładu liczby znaków w rekordach\n",
    "liczba_znakow = df['Review'].str.len()\n",
    "liczba_znakow.describe()"
   ]
  },
  {
   "cell_type": "markdown",
   "metadata": {},
   "source": [
    "Łącznie w pliku znajduje się 20491 rekordów.\n",
    "Średnio występuje ok 725 znaków przypisanych do jednej recencji hotelu.\n",
    "50% danych znajdujących w przedziale IQR (między 25% a 75% percentylem) mieści się w przedziale między 339 a 859 znaków. \n",
    "Występują znaczące wartości odstające jak mininalna wartośći 44 znaków oraz maksymalna 13501 znaków."
   ]
  },
  {
   "cell_type": "markdown",
   "metadata": {},
   "source": [
    "### <span style=\"color: #25ea3a\"> Liczba słów w kolumnie Review </span>"
   ]
  },
  {
   "cell_type": "code",
   "execution_count": 25,
   "metadata": {},
   "outputs": [
    {
     "data": {
      "text/plain": [
       "0     87\n",
       "1    250\n",
       "2    217\n",
       "3     89\n",
       "4    191\n",
       "5    134\n",
       "6    101\n",
       "7     85\n",
       "8     59\n",
       "9     35\n",
       "Name: Review, dtype: int64"
      ]
     },
     "execution_count": 25,
     "metadata": {},
     "output_type": "execute_result"
    }
   ],
   "source": [
    "# Liczba słów w rekordach z kolumny Review dla 10 pierwszych rzędów\n",
    "df['Review'].head(10).str.split().str.len()"
   ]
  },
  {
   "cell_type": "code",
   "execution_count": 26,
   "metadata": {},
   "outputs": [
    {
     "data": {
      "image/png": "[encoded data removed]",
      "text/plain": [
       "<Figure size 640x480 with 1 Axes>"
      ]
     },
     "metadata": {},
     "output_type": "display_data"
    }
   ],
   "source": [
    "# Histogram obrazujący ilość rekordów (oś Y) \n",
    "# z określoną liczbą słów (oś X) w kolumnie Review.\n",
    "plt.hist(df['Review'].str.split().str.len(), bins = 200)\n",
    "plt.xlim(0, 1000) # ograniczenie osi X do wartości 1000 dla lepszej widoczności\n",
    "plt.xlabel('Liczba słów')\n",
    "plt.ylabel('Liczba rekordów')\n",
    "plt.show()"
   ]
  },
  {
   "cell_type": "code",
   "execution_count": 27,
   "metadata": {},
   "outputs": [
    {
     "data": {
      "text/plain": [
       "count    20491.000000\n",
       "mean       104.375824\n",
       "std        100.656586\n",
       "min          7.000000\n",
       "25%         48.000000\n",
       "50%         77.000000\n",
       "75%        124.000000\n",
       "max       1931.000000\n",
       "Name: Review, dtype: float64"
      ]
     },
     "execution_count": 27,
     "metadata": {},
     "output_type": "execute_result"
    }
   ],
   "source": [
    "# Analiza rozkładu liczby znaków w rekordach\n",
    "liczba_slow = df['Review'].str.split().str.len()\n",
    "liczba_slow.describe()"
   ]
  },
  {
   "cell_type": "markdown",
   "metadata": {},
   "source": [
    "Ponownie widać wysokie wartości odstające.\n",
    "W przedziale IQR znajdują się rekordy z liczbą słów między 48 a 124, jednak minimalna ilosc słów wynosi 7, a maksymalna aż 1931. Średnia wynosi 104, więc widać, że większość rekordów znajduje się w przedziale IQR."
   ]
  },
  {
   "cell_type": "markdown",
   "metadata": {},
   "source": [
    "### <span style=\"color: #25ea3a\"> Analiza kolumny Rating </span>"
   ]
  },
  {
   "cell_type": "code",
   "execution_count": 28,
   "metadata": {},
   "outputs": [
    {
     "data": {
      "text/plain": [
       "count    20491.000000\n",
       "mean         3.952223\n",
       "std          1.233030\n",
       "min          1.000000\n",
       "25%          3.000000\n",
       "50%          4.000000\n",
       "75%          5.000000\n",
       "max          5.000000\n",
       "Name: Rating, dtype: float64"
      ]
     },
     "execution_count": 28,
     "metadata": {},
     "output_type": "execute_result"
    }
   ],
   "source": [
    "df['Rating'].describe()"
   ]
  },
  {
   "cell_type": "code",
   "execution_count": 29,
   "metadata": {},
   "outputs": [
    {
     "data": {
      "text/plain": [
       "Rating\n",
       "5    9054\n",
       "4    6039\n",
       "3    2184\n",
       "2    1793\n",
       "1    1421\n",
       "Name: count, dtype: int64"
      ]
     },
     "execution_count": 29,
     "metadata": {},
     "output_type": "execute_result"
    }
   ],
   "source": [
    "df['Rating'].value_counts()"
   ]
  },
  {
   "cell_type": "markdown",
   "metadata": {},
   "source": [
    "W zbiorze danych najwięcej rekordów otrzymało w kolumnie Rating ocenę 5 - łacznie jest to 9054 rekordów.\n",
    "\n",
    "Jest to więcej niż suma rekordów z ocenami miedzy 1 a 3, która daje łącznie wartość 5398 rekordów.\n",
    "\n",
    "Dużej ilości rekordów przypisano także ocenę 4, dlatego ogólna średnia dla wszystkich rekordów jest bliższa wyżym ocenom (średnia to 3.95).\n",
    "\n"
   ]
  },
  {
   "cell_type": "markdown",
   "metadata": {},
   "source": [
    "### <span style=\"color: #25ea3a\"> Licznik słów </span>"
   ]
  },
  {
   "cell_type": "code",
   "execution_count": 30,
   "metadata": {},
   "outputs": [],
   "source": [
    "corpus = []\n",
    "for x in df['Review'].str.split():\n",
    "    corpus.extend(x)"
   ]
  },
  {
   "cell_type": "code",
   "execution_count": 31,
   "metadata": {},
   "outputs": [
    {
     "name": "stdout",
     "output_type": "stream",
     "text": [
      "[('hotel', 42079), ('not', 30750), ('room', 30532), ('great', 18732), (\"n't\", 18436), ('staff', 14950), ('good', 14791), ('did', 13433), ('just', 12458), ('stay', 11376)]\n"
     ]
    }
   ],
   "source": [
    "counter=Counter(corpus)\n",
    "most=counter.most_common()\n",
    "print(most[0:10])"
   ]
  },
  {
   "cell_type": "markdown",
   "metadata": {},
   "source": [
    "3 najczęściej występujące słowa to \"hotel\" - 42 tys razy, \"not\" - 30 tys., \"room\" - 30 tys "
   ]
  },
  {
   "cell_type": "code",
   "execution_count": 32,
   "metadata": {},
   "outputs": [],
   "source": [
    "# 40 najczęściej występujących słów w korpusie\n",
    "first_n = 40\n",
    "x, y= [], []\n",
    "for word,count in most[:first_n]:\n",
    "        x.append(word)\n",
    "        y.append(count)"
   ]
  },
  {
   "cell_type": "code",
   "execution_count": 33,
   "metadata": {},
   "outputs": [
    {
     "name": "stderr",
     "output_type": "stream",
     "text": [
      "C:\\Users\\PLK077069\\AppData\\Local\\Temp\\ipykernel_19500\\3654772503.py:3: UserWarning: \n",
      "The palette list has fewer values (6) than needed (40) and will cycle, which may produce an uninterpretable plot.\n",
      "  sns.barplot(x=y,y=x, hue=x, legend=False, palette=custom_palette)\n"
     ]
    },
    {
     "name": "stdout",
     "output_type": "stream",
     "text": [
      "40 najczęściej występujących slów w korpusie\n"
     ]
    },
    {
     "data": {
      "image/png": "[encoded data removed]",
      "text/plain": [
       "<Figure size 1000x1000 with 1 Axes>"
      ]
     },
     "metadata": {},
     "output_type": "display_data"
    }
   ],
   "source": [
    "plt.figure(figsize=(10, 10))\n",
    "custom_palette = sns.color_palette(\"crest\") # paleta kolorów seaborn\n",
    "sns.barplot(x=y,y=x, hue=x, legend=False, palette=custom_palette)\n",
    "print(f\"{first_n} najczęściej występujących slów w korpusie\")"
   ]
  },
  {
   "cell_type": "markdown",
   "metadata": {},
   "source": [
    "Analizując kilka rekordów, zauważyć można nieobecność \"stopwords\", które musiały zostać usunięte przez twórców datasetu."
   ]
  },
  {
   "cell_type": "markdown",
   "metadata": {},
   "source": [
    "# <span style=\"color:#25dbea \"> Analiza Sentymentu </span>"
   ]
  },
  {
   "cell_type": "markdown",
   "metadata": {},
   "source": [
    "### <span style=\"color: #25ea3a\"> Tworzenie przykładów - pozytywnego, negatywnego i neutralnego  </span>"
   ]
  },
  {
   "cell_type": "code",
   "execution_count": 34,
   "metadata": {},
   "outputs": [
    {
     "data": {
      "text/plain": [
       "'horrible customer service hotel stay february 3rd 4th 2007my friend picked hotel monaco appealing website online package included champagne late checkout 3 free valet gift spa weekend, friend checked room hours earlier came later, pulled valet young man just stood, asked valet open said, pull bags didn__Ç_é_ offer help, got garment bag suitcase came car key room number says not valet, car park car street pull, left key working asked valet park car gets, went room fine bottle champagne oil lotion gift spa, dressed went came got bed noticed blood drops pillows sheets pillows, disgusted just unbelievable, called desk sent somebody 20 minutes later, swapped sheets left apologizing, sunday morning called desk speak management sheets aggravated rude, apparently no manager kind supervisor weekend wait monday morning, young man spoke said cover food adding person changed sheets said fresh blood rude tone, checkout 3pm package booked, 12 1:30 staff maids tried walk room opening door apologizing closing, people called saying check 12 remind package, finally packed things went downstairs check, quickly signed paper took, way took closer look room, unfortunately covered food offered charged valet, called desk ask charges lady answered snapped saying aware problem experienced monday like told earlier, life treated like hotel, not sure hotel constantly problems lucky ones stay recommend anybody know,  '"
      ]
     },
     "execution_count": 34,
     "metadata": {},
     "output_type": "execute_result"
    }
   ],
   "source": [
    "neg_example = df['Review'].iloc[15] # Hotel oceniony na 1 w Rating\n",
    "neg_example"
   ]
  },
  {
   "cell_type": "code",
   "execution_count": 35,
   "metadata": {},
   "outputs": [
    {
     "data": {
      "text/plain": [
       "\"fantastic stay monaco seattle hotel monaco holds high standards kimpton hotel line, having stayed kimpton hotels cities easily say seattle hotel monaco best seen, service attentive prompt, based member kimpton loyalty program upgraded 10th floor room great view 4th street excellent public library kitty-corner hotel, highly recommend tour public library blown away, room quite spacious beautiful flat-screen television dvd/cd player, exercise room pretty standard kimpton size means adequate not outstanding eliptical cardio machines stationary bikes personal viewing screens, cardio machine screens accept dvd not seen, kimpton hotels hotel monaco line particular hotel lobby stylish quirky inviting, easy imagine spending time relaxing comfortable over-stuffed chairs, restaurant attached hotel sazerac good, far eaten lunch look forward breakfast tomorrow, kimpton properties able connect free highspeed internet ethernet seconds cruising web checking email office no problems, opinion ca n't wrong kimpton hotel seattle hotel monaco certainly excellent choice,  \""
      ]
     },
     "execution_count": 35,
     "metadata": {},
     "output_type": "execute_result"
    }
   ],
   "source": [
    "poz_example = df['Review'].iloc[17] # hotel oceniony na 5 w Rating\n",
    "poz_example"
   ]
  },
  {
   "cell_type": "code",
   "execution_count": 36,
   "metadata": {},
   "outputs": [
    {
     "data": {
      "text/plain": [
       "'nice hotel not nice staff hotel lovely staff quite rude, bellhop desk clerk going way make things difficult, waited forever check heavy bags no help getting throught double doors room, worst desk clerk checking tap tap tap car waited pick 20 minutes, got home noticed 1,000 dollar hold credit card took 5 phonecalls 2 faxes 1 week resolved, stay warwck 4th lenora rooms ok..but al friendly faces tiring day airport,  '"
      ]
     },
     "execution_count": 36,
     "metadata": {},
     "output_type": "execute_result"
    }
   ],
   "source": [
    "neu_example = df['Review'].iloc[13] # hotel oceniony na 3 w Rating\n",
    "neu_example"
   ]
  },
  {
   "cell_type": "markdown",
   "metadata": {},
   "source": [
    "### <span style=\"color: #25ea3a\"> Czyszczenie danych </span>"
   ]
  },
  {
   "cell_type": "code",
   "execution_count": 37,
   "metadata": {},
   "outputs": [],
   "source": [
    "# Przeglądając rekordy zauważyc można, że większośc słów mogących być uznane za stop words zostało \n",
    "# już wyeliminowane przez twórców zbioru danych, więc nie trzeba wykonywać tego kroku."
   ]
  },
  {
   "cell_type": "code",
   "execution_count": 38,
   "metadata": {},
   "outputs": [],
   "source": [
    "# Usunięcie interpunkcji\n",
    "import re\n",
    "def remove_punctuation(text):\n",
    "    text_without_punctuation = re.sub(r'[^\\w\\s]', '', text)\n",
    "    return text_without_punctuation"
   ]
  },
  {
   "cell_type": "code",
   "execution_count": 39,
   "metadata": {},
   "outputs": [],
   "source": [
    "neg_example = remove_punctuation(neg_example)\n",
    "poz_example = remove_punctuation(poz_example)\n",
    "neu_example = remove_punctuation(neu_example)"
   ]
  },
  {
   "cell_type": "code",
   "execution_count": 40,
   "metadata": {},
   "outputs": [
    {
     "data": {
      "text/plain": [
       "'horrible customer service hotel stay february 3rd 4th 2007my friend picked hotel monaco appealing website online package included champagne late checkout 3 free valet gift spa weekend friend checked room hours earlier came later pulled valet young man just stood asked valet open said pull bags didn__Ç_é_ offer help got garment bag suitcase came car key room number says not valet car park car street pull left key working asked valet park car gets went room fine bottle champagne oil lotion gift spa dressed went came got bed noticed blood drops pillows sheets pillows disgusted just unbelievable called desk sent somebody 20 minutes later swapped sheets left apologizing sunday morning called desk speak management sheets aggravated rude apparently no manager kind supervisor weekend wait monday morning young man spoke said cover food adding person changed sheets said fresh blood rude tone checkout 3pm package booked 12 130 staff maids tried walk room opening door apologizing closing people called saying check 12 remind package finally packed things went downstairs check quickly signed paper took way took closer look room unfortunately covered food offered charged valet called desk ask charges lady answered snapped saying aware problem experienced monday like told earlier life treated like hotel not sure hotel constantly problems lucky ones stay recommend anybody know  '"
      ]
     },
     "execution_count": 40,
     "metadata": {},
     "output_type": "execute_result"
    }
   ],
   "source": [
    "neg_example"
   ]
  },
  {
   "cell_type": "code",
   "execution_count": 41,
   "metadata": {},
   "outputs": [],
   "source": [
    "# usunięcie nietypowych znaków, których nie ma w języku angielskim i pojawiły się prawdopodobnie \n",
    "# w wyniku błędu przetwarzania danych przez twórców\n",
    "def remove_non_english(text):\n",
    "    english_text = re.sub(r'[^\\x00-\\x7F]+', '', text)\n",
    "    return english_text"
   ]
  },
  {
   "cell_type": "code",
   "execution_count": 42,
   "metadata": {},
   "outputs": [],
   "source": [
    "neg_example = remove_non_english(neg_example)\n",
    "poz_example = remove_non_english(poz_example)\n",
    "neu_example = remove_non_english(neu_example)"
   ]
  },
  {
   "cell_type": "code",
   "execution_count": 43,
   "metadata": {},
   "outputs": [
    {
     "data": {
      "text/plain": [
       "'horrible customer service hotel stay february 3rd 4th 2007my friend picked hotel monaco appealing website online package included champagne late checkout 3 free valet gift spa weekend friend checked room hours earlier came later pulled valet young man just stood asked valet open said pull bags didn____ offer help got garment bag suitcase came car key room number says not valet car park car street pull left key working asked valet park car gets went room fine bottle champagne oil lotion gift spa dressed went came got bed noticed blood drops pillows sheets pillows disgusted just unbelievable called desk sent somebody 20 minutes later swapped sheets left apologizing sunday morning called desk speak management sheets aggravated rude apparently no manager kind supervisor weekend wait monday morning young man spoke said cover food adding person changed sheets said fresh blood rude tone checkout 3pm package booked 12 130 staff maids tried walk room opening door apologizing closing people called saying check 12 remind package finally packed things went downstairs check quickly signed paper took way took closer look room unfortunately covered food offered charged valet called desk ask charges lady answered snapped saying aware problem experienced monday like told earlier life treated like hotel not sure hotel constantly problems lucky ones stay recommend anybody know  '"
      ]
     },
     "execution_count": 43,
     "metadata": {},
     "output_type": "execute_result"
    }
   ],
   "source": [
    "neg_example"
   ]
  },
  {
   "cell_type": "code",
   "execution_count": 44,
   "metadata": {},
   "outputs": [],
   "source": [
    "# Usunięcie podkreśleń\n",
    "def remove_underscores(text):\n",
    "    cleaned_text = re.sub(r'_', '', text)\n",
    "    return cleaned_text"
   ]
  },
  {
   "cell_type": "code",
   "execution_count": 45,
   "metadata": {},
   "outputs": [],
   "source": [
    "neg_example = remove_underscores(neg_example)\n",
    "poz_example = remove_underscores(poz_example)\n",
    "neu_example = remove_underscores(neu_example)"
   ]
  },
  {
   "cell_type": "code",
   "execution_count": 46,
   "metadata": {},
   "outputs": [
    {
     "data": {
      "text/plain": [
       "'horrible customer service hotel stay february 3rd 4th 2007my friend picked hotel monaco appealing website online package included champagne late checkout 3 free valet gift spa weekend friend checked room hours earlier came later pulled valet young man just stood asked valet open said pull bags didn offer help got garment bag suitcase came car key room number says not valet car park car street pull left key working asked valet park car gets went room fine bottle champagne oil lotion gift spa dressed went came got bed noticed blood drops pillows sheets pillows disgusted just unbelievable called desk sent somebody 20 minutes later swapped sheets left apologizing sunday morning called desk speak management sheets aggravated rude apparently no manager kind supervisor weekend wait monday morning young man spoke said cover food adding person changed sheets said fresh blood rude tone checkout 3pm package booked 12 130 staff maids tried walk room opening door apologizing closing people called saying check 12 remind package finally packed things went downstairs check quickly signed paper took way took closer look room unfortunately covered food offered charged valet called desk ask charges lady answered snapped saying aware problem experienced monday like told earlier life treated like hotel not sure hotel constantly problems lucky ones stay recommend anybody know  '"
      ]
     },
     "execution_count": 46,
     "metadata": {},
     "output_type": "execute_result"
    }
   ],
   "source": [
    "neg_example"
   ]
  },
  {
   "cell_type": "code",
   "execution_count": 47,
   "metadata": {},
   "outputs": [],
   "source": [
    "def remove_numbers_and_words_with_numbers(text):\n",
    "    # Usunięcie numerów\n",
    "    text = re.sub(r'\\b\\d+\\b', '', text)\n",
    "    # Usunięcie słów zawierających numer\n",
    "    text = re.sub(r'\\b\\w*\\d\\w*\\b', '', text)\n",
    "    return text"
   ]
  },
  {
   "cell_type": "code",
   "execution_count": 48,
   "metadata": {},
   "outputs": [],
   "source": [
    "neg_example = remove_numbers_and_words_with_numbers(neg_example)\n",
    "poz_example = remove_numbers_and_words_with_numbers(poz_example)\n",
    "neu_example = remove_numbers_and_words_with_numbers(neu_example)"
   ]
  },
  {
   "cell_type": "code",
   "execution_count": 49,
   "metadata": {},
   "outputs": [
    {
     "data": {
      "text/plain": [
       "'horrible customer service hotel stay february    friend picked hotel monaco appealing website online package included champagne late checkout  free valet gift spa weekend friend checked room hours earlier came later pulled valet young man just stood asked valet open said pull bags didn offer help got garment bag suitcase came car key room number says not valet car park car street pull left key working asked valet park car gets went room fine bottle champagne oil lotion gift spa dressed went came got bed noticed blood drops pillows sheets pillows disgusted just unbelievable called desk sent somebody  minutes later swapped sheets left apologizing sunday morning called desk speak management sheets aggravated rude apparently no manager kind supervisor weekend wait monday morning young man spoke said cover food adding person changed sheets said fresh blood rude tone checkout  package booked   staff maids tried walk room opening door apologizing closing people called saying check  remind package finally packed things went downstairs check quickly signed paper took way took closer look room unfortunately covered food offered charged valet called desk ask charges lady answered snapped saying aware problem experienced monday like told earlier life treated like hotel not sure hotel constantly problems lucky ones stay recommend anybody know  '"
      ]
     },
     "execution_count": 49,
     "metadata": {},
     "output_type": "execute_result"
    }
   ],
   "source": [
    "neg_example"
   ]
  },
  {
   "cell_type": "code",
   "execution_count": 50,
   "metadata": {},
   "outputs": [],
   "source": [
    "def remove_extra_spaces(text):\n",
    "    text = re.sub(r'\\s{2,}', ' ', text)\n",
    "    return text"
   ]
  },
  {
   "cell_type": "code",
   "execution_count": 51,
   "metadata": {},
   "outputs": [],
   "source": [
    "neg_example = remove_extra_spaces(neg_example)\n",
    "poz_example = remove_extra_spaces(poz_example)\n",
    "neu_example = remove_extra_spaces(neu_example)"
   ]
  },
  {
   "cell_type": "code",
   "execution_count": 52,
   "metadata": {},
   "outputs": [
    {
     "data": {
      "text/plain": [
       "'horrible customer service hotel stay february friend picked hotel monaco appealing website online package included champagne late checkout free valet gift spa weekend friend checked room hours earlier came later pulled valet young man just stood asked valet open said pull bags didn offer help got garment bag suitcase came car key room number says not valet car park car street pull left key working asked valet park car gets went room fine bottle champagne oil lotion gift spa dressed went came got bed noticed blood drops pillows sheets pillows disgusted just unbelievable called desk sent somebody minutes later swapped sheets left apologizing sunday morning called desk speak management sheets aggravated rude apparently no manager kind supervisor weekend wait monday morning young man spoke said cover food adding person changed sheets said fresh blood rude tone checkout package booked staff maids tried walk room opening door apologizing closing people called saying check remind package finally packed things went downstairs check quickly signed paper took way took closer look room unfortunately covered food offered charged valet called desk ask charges lady answered snapped saying aware problem experienced monday like told earlier life treated like hotel not sure hotel constantly problems lucky ones stay recommend anybody know '"
      ]
     },
     "execution_count": 52,
     "metadata": {},
     "output_type": "execute_result"
    }
   ],
   "source": [
    "neg_example"
   ]
  },
  {
   "cell_type": "markdown",
   "metadata": {},
   "source": [
    "### <span style=\"color: #25ea3a\"> Tokenizacja </span>"
   ]
  },
  {
   "cell_type": "code",
   "execution_count": 53,
   "metadata": {},
   "outputs": [],
   "source": [
    "from nltk.tokenize import word_tokenize, sent_tokenize"
   ]
  },
  {
   "cell_type": "code",
   "execution_count": 54,
   "metadata": {},
   "outputs": [],
   "source": [
    "neu_example = word_tokenize(neu_example)\n",
    "poz_example = word_tokenize(poz_example)\n",
    "neg_example = word_tokenize(neg_example)"
   ]
  },
  {
   "cell_type": "code",
   "execution_count": 55,
   "metadata": {},
   "outputs": [
    {
     "data": {
      "text/plain": [
       "['nice', 'hotel', 'not', 'nice', 'staff']"
      ]
     },
     "execution_count": 55,
     "metadata": {},
     "output_type": "execute_result"
    }
   ],
   "source": [
    "neu_example[:5]"
   ]
  },
  {
   "cell_type": "code",
   "execution_count": 56,
   "metadata": {},
   "outputs": [
    {
     "data": {
      "text/plain": [
       "['fantastic', 'stay', 'monaco', 'seattle', 'hotel']"
      ]
     },
     "execution_count": 56,
     "metadata": {},
     "output_type": "execute_result"
    }
   ],
   "source": [
    "poz_example[:5]"
   ]
  },
  {
   "cell_type": "code",
   "execution_count": 57,
   "metadata": {},
   "outputs": [
    {
     "data": {
      "text/plain": [
       "['horrible', 'customer', 'service', 'hotel', 'stay']"
      ]
     },
     "execution_count": 57,
     "metadata": {},
     "output_type": "execute_result"
    }
   ],
   "source": [
    "neg_example[:5]"
   ]
  },
  {
   "cell_type": "markdown",
   "metadata": {},
   "source": [
    "### <span style=\"color: #25ea3a\"> Stemming </span>"
   ]
  },
  {
   "cell_type": "code",
   "execution_count": 58,
   "metadata": {},
   "outputs": [],
   "source": [
    "from nltk.stem import PorterStemmer\n",
    "from nltk.stem import LancasterStemmer"
   ]
  },
  {
   "cell_type": "code",
   "execution_count": 59,
   "metadata": {},
   "outputs": [],
   "source": [
    "porter = PorterStemmer()\n",
    "lancaster = LancasterStemmer()"
   ]
  },
  {
   "cell_type": "code",
   "execution_count": 60,
   "metadata": {},
   "outputs": [
    {
     "name": "stdout",
     "output_type": "stream",
     "text": [
      "horrible       horribl        horr           \n",
      "customer       custom         custom         \n",
      "service        servic         serv           \n",
      "hotel          hotel          hotel          \n",
      "stay           stay           stay           \n",
      "february       februari       febru          \n",
      "friend         friend         friend         \n",
      "picked         pick           pick           \n",
      "hotel          hotel          hotel          \n",
      "monaco         monaco         monaco         \n"
     ]
    }
   ],
   "source": [
    "for word in neg_example[:10]:\n",
    "    print(f\"{word:15}{porter.stem(word):15}{lancaster.stem(word):15}\")"
   ]
  },
  {
   "cell_type": "markdown",
   "metadata": {},
   "source": [
    "Wyniki Stemmingu wydają się w tym przypadku bezużyteczne."
   ]
  },
  {
   "cell_type": "markdown",
   "metadata": {},
   "source": [
    "### <span style=\"color: #25ea3a\"> Lematyzacja </span>"
   ]
  },
  {
   "cell_type": "code",
   "execution_count": 61,
   "metadata": {},
   "outputs": [
    {
     "name": "stderr",
     "output_type": "stream",
     "text": [
      "[nltk_data] Downloading package wordnet to\n",
      "[nltk_data]     C:\\Users\\PLK077069\\AppData\\Roaming\\nltk_data...\n",
      "[nltk_data]   Package wordnet is already up-to-date!\n"
     ]
    },
    {
     "data": {
      "text/plain": [
       "True"
      ]
     },
     "execution_count": 61,
     "metadata": {},
     "output_type": "execute_result"
    }
   ],
   "source": [
    "from nltk.stem import WordNetLemmatizer\n",
    "wordnet_lemmatizer = WordNetLemmatizer()\n",
    "nltk.download('wordnet')"
   ]
  },
  {
   "cell_type": "code",
   "execution_count": 62,
   "metadata": {},
   "outputs": [
    {
     "name": "stdout",
     "output_type": "stream",
     "text": [
      "horrible            horribl             horr                horrible            \n",
      "customer            custom              custom              customer            \n",
      "service             servic              serv                service             \n",
      "hotel               hotel               hotel               hotel               \n",
      "stay                stay                stay                stay                \n",
      "february            februari            febru               february            \n",
      "friend              friend              friend              friend              \n",
      "picked              pick                pick                picked              \n",
      "hotel               hotel               hotel               hotel               \n",
      "monaco              monaco              monaco              monaco              \n"
     ]
    }
   ],
   "source": [
    "for word in neg_example[:10]:\n",
    "    print(f\"{word:20}{porter.stem(word):20}{lancaster.stem(word):20}{wordnet_lemmatizer.lemmatize(word):20}\")"
   ]
  },
  {
   "cell_type": "code",
   "execution_count": 63,
   "metadata": {},
   "outputs": [
    {
     "name": "stdout",
     "output_type": "stream",
     "text": [
      "fantastic           fantast             fantast             fantastic           \n",
      "stay                stay                stay                stay                \n",
      "monaco              monaco              monaco              monaco              \n",
      "seattle             seattl              seattl              seattle             \n",
      "hotel               hotel               hotel               hotel               \n",
      "monaco              monaco              monaco              monaco              \n",
      "holds               hold                hold                hold                \n",
      "high                high                high                high                \n",
      "standards           standard            standard            standard            \n",
      "kimpton             kimpton             kimpton             kimpton             \n"
     ]
    }
   ],
   "source": [
    "for word in poz_example[:10]:\n",
    "    print(f\"{word:20}{porter.stem(word):20}{lancaster.stem(word):20}{wordnet_lemmatizer.lemmatize(word):20}\")"
   ]
  },
  {
   "cell_type": "code",
   "execution_count": 64,
   "metadata": {},
   "outputs": [
    {
     "name": "stdout",
     "output_type": "stream",
     "text": [
      "nice                nice                nic                 nice                \n",
      "hotel               hotel               hotel               hotel               \n",
      "not                 not                 not                 not                 \n",
      "nice                nice                nic                 nice                \n",
      "staff               staff               staff               staff               \n",
      "hotel               hotel               hotel               hotel               \n",
      "lovely              love                lov                 lovely              \n",
      "staff               staff               staff               staff               \n",
      "quite               quit                quit                quite               \n",
      "rude                rude                rud                 rude                \n"
     ]
    }
   ],
   "source": [
    "for word in neu_example[:10]:\n",
    "    print(f\"{word:20}{porter.stem(word):20}{lancaster.stem(word):20}{wordnet_lemmatizer.lemmatize(word):20}\")"
   ]
  },
  {
   "cell_type": "code",
   "execution_count": 65,
   "metadata": {},
   "outputs": [
    {
     "name": "stdout",
     "output_type": "stream",
     "text": [
      "appealing           appeal              ap                  appealing           \n",
      "website             websit              websit              website             \n",
      "online              onlin               onlin               online              \n",
      "package             packag              pack                package             \n",
      "included            includ              includ              included            \n",
      "champagne           champagn            champagn            champagne           \n",
      "late                late                lat                 late                \n",
      "checkout            checkout            checkout            checkout            \n",
      "free                free                fre                 free                \n",
      "valet               valet               valet               valet               \n",
      "gift                gift                gift                gift                \n"
     ]
    }
   ],
   "source": [
    "for word in neg_example[10:21]:\n",
    "    print(f\"{word:20}{porter.stem(word):20}{lancaster.stem(word):20}{wordnet_lemmatizer.lemmatize(word):20}\")"
   ]
  },
  {
   "cell_type": "markdown",
   "metadata": {},
   "source": [
    "Na podstawie przykładów stwierdzić można, że Lematyzacja nie wniosła dużo do przykładów, jednak zmieniła\n",
    "pojedyńcze słowa jak holds na hold, co może nie mieć znaczenia (lub mieć znaczenie!)"
   ]
  },
  {
   "cell_type": "markdown",
   "metadata": {},
   "source": [
    "### <span style=\"color: #25ea3a\"> PoS, czyli określanie części mowy </span>"
   ]
  },
  {
   "cell_type": "code",
   "execution_count": 66,
   "metadata": {},
   "outputs": [
    {
     "name": "stderr",
     "output_type": "stream",
     "text": [
      "[nltk_data] Downloading package averaged_perceptron_tagger to\n",
      "[nltk_data]     C:\\Users\\PLK077069\\AppData\\Roaming\\nltk_data...\n",
      "[nltk_data]   Package averaged_perceptron_tagger is already up-to-\n",
      "[nltk_data]       date!\n"
     ]
    },
    {
     "data": {
      "text/plain": [
       "True"
      ]
     },
     "execution_count": 66,
     "metadata": {},
     "output_type": "execute_result"
    }
   ],
   "source": [
    "nltk.download('averaged_perceptron_tagger')"
   ]
  },
  {
   "cell_type": "code",
   "execution_count": 67,
   "metadata": {},
   "outputs": [],
   "source": [
    "neg_example_tagged = nltk.pos_tag(neg_example)\n",
    "poz_example_tagged = nltk.pos_tag(poz_example)   \n",
    "neu_example_tagged = nltk.pos_tag(neu_example)"
   ]
  },
  {
   "cell_type": "code",
   "execution_count": 68,
   "metadata": {},
   "outputs": [
    {
     "data": {
      "text/plain": [
       "[('horrible', 'JJ'),\n",
       " ('customer', 'NN'),\n",
       " ('service', 'NN'),\n",
       " ('hotel', 'NN'),\n",
       " ('stay', 'VBP')]"
      ]
     },
     "execution_count": 68,
     "metadata": {},
     "output_type": "execute_result"
    }
   ],
   "source": [
    "neg_example_tagged[:5]"
   ]
  },
  {
   "cell_type": "code",
   "execution_count": 69,
   "metadata": {},
   "outputs": [
    {
     "data": {
      "text/plain": [
       "[('fantastic', 'JJ'),\n",
       " ('stay', 'NN'),\n",
       " ('monaco', 'RB'),\n",
       " ('seattle', 'JJ'),\n",
       " ('hotel', 'NN')]"
      ]
     },
     "execution_count": 69,
     "metadata": {},
     "output_type": "execute_result"
    }
   ],
   "source": [
    "poz_example_tagged[:5]"
   ]
  },
  {
   "cell_type": "code",
   "execution_count": 70,
   "metadata": {},
   "outputs": [
    {
     "data": {
      "text/plain": [
       "[('nice', 'JJ'),\n",
       " ('hotel', 'NN'),\n",
       " ('not', 'RB'),\n",
       " ('nice', 'JJ'),\n",
       " ('staff', 'NN')]"
      ]
     },
     "execution_count": 70,
     "metadata": {},
     "output_type": "execute_result"
    }
   ],
   "source": [
    "neu_example_tagged[:5]"
   ]
  },
  {
   "cell_type": "code",
   "execution_count": 71,
   "metadata": {},
   "outputs": [],
   "source": [
    "# Znaczenie skrótów części mowy:\n",
    "pos_tags_desc = {\n",
    "    'CC': 'Coordinating conjunction',\n",
    "    'CD': 'Cardinal number',\n",
    "    'DT': 'Determiner',\n",
    "    'EX': 'Existential there',\n",
    "    'FW': 'Foreign word',\n",
    "    'IN': 'Preposition or subordinating conjunction',\n",
    "    'JJ': 'Adjective',\n",
    "    'JJR': 'Adjective, comparative',\n",
    "    'JJS': 'Adjective, superlative',\n",
    "    'LS': 'List item marker',\n",
    "    'MD': 'Modal (e.g., can, could, might, may)',\n",
    "    'NN': 'Noun, singular or mass',\n",
    "    'NNS': 'Noun, plural',\n",
    "    'NNP': 'Proper noun, singular',\n",
    "    'NNPS': 'Proper noun, plural',\n",
    "    'PDT': 'Predeterminer',\n",
    "    'POS': 'Possessive ending (e.g., \\'s)',\n",
    "    'PRP': 'Personal pronoun (e.g., I, you, he, she, they)',\n",
    "    'PRP$': 'Possessive pronoun (e.g., my, your, his, hers, theirs)',\n",
    "    'RB': 'Adverb',\n",
    "    'RBR': 'Adverb, comparative',\n",
    "    'RBS': 'Adverb, superlative',\n",
    "    'RP': 'Particle',\n",
    "    'SYM': 'Symbol',\n",
    "    'TO': 'to',\n",
    "    'UH': 'Interjection',\n",
    "    'VB': 'Verb, base form',\n",
    "    'VBD': 'Verb, past tense',\n",
    "    'VBG': 'Verb, gerund or present participle',\n",
    "    'VBN': 'Verb, past participle',\n",
    "    'VBP': 'Verb, non-3rd person singular present',\n",
    "    'VBZ': 'Verb, 3rd person singular present',\n",
    "    'WDT': 'Wh-determiner (e.g., which, that)',\n",
    "    'WP': 'Wh-pronoun (e.g., what, who, whom)',\n",
    "    'WP$': 'Possessive wh-pronoun (e.g., whose)',\n",
    "    'WRB': 'Wh-adverb (e.g., where, when)'\n",
    "}"
   ]
  },
  {
   "cell_type": "markdown",
   "metadata": {},
   "source": [
    "# <span style=\"color:#25dbea \"> Vader </span>"
   ]
  },
  {
   "cell_type": "markdown",
   "metadata": {},
   "source": [
    "## <span style=\"color:#c125ea \"> Pobranie biblioteki i pakietu </span>"
   ]
  },
  {
   "cell_type": "code",
   "execution_count": 72,
   "metadata": {},
   "outputs": [],
   "source": [
    "from nltk.sentiment import SentimentIntensityAnalyzer"
   ]
  },
  {
   "cell_type": "code",
   "execution_count": 73,
   "metadata": {},
   "outputs": [
    {
     "name": "stderr",
     "output_type": "stream",
     "text": [
      "[nltk_data] Downloading package vader_lexicon to\n",
      "[nltk_data]     C:\\Users\\PLK077069\\AppData\\Roaming\\nltk_data...\n",
      "[nltk_data]   Package vader_lexicon is already up-to-date!\n"
     ]
    }
   ],
   "source": [
    "nltk.download('vader_lexicon')\n",
    "sia = SentimentIntensityAnalyzer()"
   ]
  },
  {
   "cell_type": "code",
   "execution_count": 74,
   "metadata": {},
   "outputs": [
    {
     "data": {
      "text/plain": [
       "{'neg': 0.629, 'neu': 0.371, 'pos': 0.0, 'compound': -0.5256}"
      ]
     },
     "execution_count": 74,
     "metadata": {},
     "output_type": "execute_result"
    }
   ],
   "source": [
    "# sprawdzanie działania\n",
    "sia.polarity_scores(\"I am very sad.\")\n",
    "# wartość compound wyraża ogólny pozytywny lub negatywny wydźwięk zdania i mieści się w granicach:\n",
    "# -1 (negatywny) do +1 (pozytywny)"
   ]
  },
  {
   "cell_type": "markdown",
   "metadata": {},
   "source": [
    "## <span style=\"color:#c125ea \"> Analiza sentymentu na przykładach: pozytywnym, neutralnym, negatywnym </span>"
   ]
  },
  {
   "cell_type": "code",
   "execution_count": 75,
   "metadata": {},
   "outputs": [],
   "source": [
    "poz_example_string = \" \".join(poz_example) "
   ]
  },
  {
   "cell_type": "code",
   "execution_count": 76,
   "metadata": {},
   "outputs": [
    {
     "data": {
      "text/plain": [
       "'fantastic stay monaco seattle hotel monaco holds high standards kimpton hotel line having stayed kimpton hotels cities easily say seattle hotel monaco best seen service attentive prompt based member kimpton loyalty program upgraded floor room great view street excellent public library kittycorner hotel highly recommend tour public library blown away room quite spacious beautiful flatscreen television dvdcd player exercise room pretty standard kimpton size means adequate not outstanding eliptical cardio machines stationary bikes personal viewing screens cardio machine screens accept dvd not seen kimpton hotels hotel monaco line particular hotel lobby stylish quirky inviting easy imagine spending time relaxing comfortable overstuffed chairs restaurant attached hotel sazerac good far eaten lunch look forward breakfast tomorrow kimpton properties able connect free highspeed internet ethernet seconds cruising web checking email office no problems opinion ca nt wrong kimpton hotel seattle hotel monaco certainly excellent choice'"
      ]
     },
     "execution_count": 76,
     "metadata": {},
     "output_type": "execute_result"
    }
   ],
   "source": [
    "poz_example_string"
   ]
  },
  {
   "cell_type": "code",
   "execution_count": 77,
   "metadata": {},
   "outputs": [],
   "source": [
    "neg_example_string = \" \".join(neg_example)\n",
    "neu_example_string = \" \".join(neu_example)"
   ]
  },
  {
   "cell_type": "code",
   "execution_count": 78,
   "metadata": {},
   "outputs": [
    {
     "data": {
      "text/plain": [
       "{'neg': 0.059, 'neu': 0.619, 'pos': 0.322, 'compound': 0.9936}"
      ]
     },
     "execution_count": 78,
     "metadata": {},
     "output_type": "execute_result"
    }
   ],
   "source": [
    "sia.polarity_scores(poz_example_string) \n",
    "# Wydźwięk pozytywny"
   ]
  },
  {
   "cell_type": "markdown",
   "metadata": {},
   "source": [
    "Ogólny sentyment jest wysoki (0.9936), co sugeruje, że tekst jest pozytywny, z wartościami neutralności (0.619) i negatywności (0.059)."
   ]
  },
  {
   "cell_type": "code",
   "execution_count": 79,
   "metadata": {},
   "outputs": [
    {
     "data": {
      "text/plain": [
       "{'neg': 0.136, 'neu': 0.691, 'pos': 0.173, 'compound': 0.8496}"
      ]
     },
     "execution_count": 79,
     "metadata": {},
     "output_type": "execute_result"
    }
   ],
   "source": [
    "sia.polarity_scores(neg_example_string)"
   ]
  },
  {
   "cell_type": "markdown",
   "metadata": {},
   "source": [
    "Wartość 'compound' wynosi 0.8496, co wskazuje na umiarkowanie pozytywny sentyment. W porównaniu z poprzednim wynikiem, ten tekst również wykazuje większą neutralność (0.691), niż negatywność (0.136), ale jest mniej pozytywny (0.173 w porównaniu do 0.322). Wartość compound sugeruje, że tekst ma pozytywny charakter, ale nie jest to tak wyraźne jak w poprzednim przypadku."
   ]
  },
  {
   "cell_type": "code",
   "execution_count": 80,
   "metadata": {},
   "outputs": [
    {
     "data": {
      "text/plain": [
       "{'neg': 0.143, 'neu': 0.626, 'pos': 0.231, 'compound': 0.7584}"
      ]
     },
     "execution_count": 80,
     "metadata": {},
     "output_type": "execute_result"
    }
   ],
   "source": [
    "sia.polarity_scores(neu_example_string)"
   ]
  },
  {
   "cell_type": "markdown",
   "metadata": {},
   "source": [
    "Wartość 'compound' wynosi 0.7584, co sugeruje umiarkowanie pozytywny sentyment w analizowanym tekście. W tym przypadku tekst wykazuje większą neutralność (0.626) niż zarówno negatywność (0.143) czy pozytywność (0.231)."
   ]
  },
  {
   "cell_type": "markdown",
   "metadata": {},
   "source": [
    "## <span style=\"color:#c125ea \"> Analiza sentymentu na na całym zbiorze </span>"
   ]
  },
  {
   "cell_type": "markdown",
   "metadata": {},
   "source": [
    "### <span style=\"color: #25ea3a\"> Czyszczenie danych </span>"
   ]
  },
  {
   "cell_type": "code",
   "execution_count": 81,
   "metadata": {},
   "outputs": [],
   "source": [
    "df['Review'] = df['Review'].apply(remove_punctuation)"
   ]
  },
  {
   "cell_type": "code",
   "execution_count": 82,
   "metadata": {},
   "outputs": [],
   "source": [
    "df['Review'] = df['Review'].apply(remove_non_english)"
   ]
  },
  {
   "cell_type": "code",
   "execution_count": 83,
   "metadata": {},
   "outputs": [],
   "source": [
    "df['Review'] = df['Review'].apply(remove_underscores)"
   ]
  },
  {
   "cell_type": "code",
   "execution_count": 84,
   "metadata": {},
   "outputs": [],
   "source": [
    "df['Review'] = df['Review'].apply(remove_numbers_and_words_with_numbers)"
   ]
  },
  {
   "cell_type": "code",
   "execution_count": 85,
   "metadata": {},
   "outputs": [],
   "source": [
    "df['Review'] = df['Review'].apply(remove_extra_spaces)"
   ]
  },
  {
   "cell_type": "code",
   "execution_count": 86,
   "metadata": {},
   "outputs": [
    {
     "data": {
      "text/html": [
       "<div>\n",
       "<style scoped>\n",
       "    .dataframe tbody tr th:only-of-type {\n",
       "        vertical-align: middle;\n",
       "    }\n",
       "\n",
       "    .dataframe tbody tr th {\n",
       "        vertical-align: top;\n",
       "    }\n",
       "\n",
       "    .dataframe thead th {\n",
       "        text-align: right;\n",
       "    }\n",
       "</style>\n",
       "<table border=\"1\" class=\"dataframe\">\n",
       "  <thead>\n",
       "    <tr style=\"text-align: right;\">\n",
       "      <th></th>\n",
       "      <th>Review</th>\n",
       "      <th>Rating</th>\n",
       "    </tr>\n",
       "  </thead>\n",
       "  <tbody>\n",
       "    <tr>\n",
       "      <th>0</th>\n",
       "      <td>nice hotel expensive parking got good deal sta...</td>\n",
       "      <td>4</td>\n",
       "    </tr>\n",
       "    <tr>\n",
       "      <th>1</th>\n",
       "      <td>ok nothing special charge diamond member hilto...</td>\n",
       "      <td>2</td>\n",
       "    </tr>\n",
       "    <tr>\n",
       "      <th>2</th>\n",
       "      <td>nice rooms not experience hotel monaco seattle...</td>\n",
       "      <td>3</td>\n",
       "    </tr>\n",
       "    <tr>\n",
       "      <th>3</th>\n",
       "      <td>unique great stay wonderful time hotel monaco ...</td>\n",
       "      <td>5</td>\n",
       "    </tr>\n",
       "    <tr>\n",
       "      <th>4</th>\n",
       "      <td>great stay great stay went seahawk game awesom...</td>\n",
       "      <td>5</td>\n",
       "    </tr>\n",
       "  </tbody>\n",
       "</table>\n",
       "</div>"
      ],
      "text/plain": [
       "                                              Review  Rating\n",
       "0  nice hotel expensive parking got good deal sta...       4\n",
       "1  ok nothing special charge diamond member hilto...       2\n",
       "2  nice rooms not experience hotel monaco seattle...       3\n",
       "3  unique great stay wonderful time hotel monaco ...       5\n",
       "4  great stay great stay went seahawk game awesom...       5"
      ]
     },
     "execution_count": 86,
     "metadata": {},
     "output_type": "execute_result"
    }
   ],
   "source": [
    "df.head()"
   ]
  },
  {
   "cell_type": "markdown",
   "metadata": {},
   "source": [
    "### <span style=\"color: #25ea3a\"> Aplikacja analizy sentymentu na kolumnie Review </span>"
   ]
  },
  {
   "cell_type": "code",
   "execution_count": 87,
   "metadata": {},
   "outputs": [],
   "source": [
    "df['Sentiment'] = df['Review'].apply(lambda x: sia.polarity_scores(x))"
   ]
  },
  {
   "cell_type": "code",
   "execution_count": 88,
   "metadata": {},
   "outputs": [
    {
     "name": "stderr",
     "output_type": "stream",
     "text": [
      "C:\\Users\\PLK077069\\AppData\\Local\\Temp\\ipykernel_19500\\1130319493.py:1: FutureWarning: Returning a DataFrame from Series.apply when the supplied function returns a Series is deprecated and will be removed in a future version.\n",
      "  df[['neg', 'neu', 'pos', 'compound']] = df['Sentiment'].apply(pd.Series)\n"
     ]
    }
   ],
   "source": [
    "df[['neg', 'neu', 'pos', 'compound']] = df['Sentiment'].apply(pd.Series)"
   ]
  },
  {
   "cell_type": "code",
   "execution_count": 89,
   "metadata": {},
   "outputs": [],
   "source": [
    "df.drop('Sentiment', axis=1, inplace=True)"
   ]
  },
  {
   "cell_type": "code",
   "execution_count": 90,
   "metadata": {},
   "outputs": [
    {
     "data": {
      "text/html": [
       "<div>\n",
       "<style scoped>\n",
       "    .dataframe tbody tr th:only-of-type {\n",
       "        vertical-align: middle;\n",
       "    }\n",
       "\n",
       "    .dataframe tbody tr th {\n",
       "        vertical-align: top;\n",
       "    }\n",
       "\n",
       "    .dataframe thead th {\n",
       "        text-align: right;\n",
       "    }\n",
       "</style>\n",
       "<table border=\"1\" class=\"dataframe\">\n",
       "  <thead>\n",
       "    <tr style=\"text-align: right;\">\n",
       "      <th></th>\n",
       "      <th>Review</th>\n",
       "      <th>Rating</th>\n",
       "      <th>neg</th>\n",
       "      <th>neu</th>\n",
       "      <th>pos</th>\n",
       "      <th>compound</th>\n",
       "    </tr>\n",
       "  </thead>\n",
       "  <tbody>\n",
       "    <tr>\n",
       "      <th>0</th>\n",
       "      <td>nice hotel expensive parking got good deal sta...</td>\n",
       "      <td>4</td>\n",
       "      <td>0.072</td>\n",
       "      <td>0.640</td>\n",
       "      <td>0.288</td>\n",
       "      <td>0.9747</td>\n",
       "    </tr>\n",
       "    <tr>\n",
       "      <th>1</th>\n",
       "      <td>ok nothing special charge diamond member hilto...</td>\n",
       "      <td>2</td>\n",
       "      <td>0.112</td>\n",
       "      <td>0.696</td>\n",
       "      <td>0.192</td>\n",
       "      <td>0.9787</td>\n",
       "    </tr>\n",
       "    <tr>\n",
       "      <th>2</th>\n",
       "      <td>nice rooms not experience hotel monaco seattle...</td>\n",
       "      <td>3</td>\n",
       "      <td>0.076</td>\n",
       "      <td>0.685</td>\n",
       "      <td>0.240</td>\n",
       "      <td>0.9910</td>\n",
       "    </tr>\n",
       "    <tr>\n",
       "      <th>3</th>\n",
       "      <td>unique great stay wonderful time hotel monaco ...</td>\n",
       "      <td>5</td>\n",
       "      <td>0.017</td>\n",
       "      <td>0.549</td>\n",
       "      <td>0.433</td>\n",
       "      <td>0.9946</td>\n",
       "    </tr>\n",
       "    <tr>\n",
       "      <th>4</th>\n",
       "      <td>great stay great stay went seahawk game awesom...</td>\n",
       "      <td>5</td>\n",
       "      <td>0.104</td>\n",
       "      <td>0.637</td>\n",
       "      <td>0.258</td>\n",
       "      <td>0.9906</td>\n",
       "    </tr>\n",
       "  </tbody>\n",
       "</table>\n",
       "</div>"
      ],
      "text/plain": [
       "                                              Review  Rating    neg    neu  \\\n",
       "0  nice hotel expensive parking got good deal sta...       4  0.072  0.640   \n",
       "1  ok nothing special charge diamond member hilto...       2  0.112  0.696   \n",
       "2  nice rooms not experience hotel monaco seattle...       3  0.076  0.685   \n",
       "3  unique great stay wonderful time hotel monaco ...       5  0.017  0.549   \n",
       "4  great stay great stay went seahawk game awesom...       5  0.104  0.637   \n",
       "\n",
       "     pos  compound  \n",
       "0  0.288    0.9747  \n",
       "1  0.192    0.9787  \n",
       "2  0.240    0.9910  \n",
       "3  0.433    0.9946  \n",
       "4  0.258    0.9906  "
      ]
     },
     "execution_count": 90,
     "metadata": {},
     "output_type": "execute_result"
    }
   ],
   "source": [
    "df.head()"
   ]
  },
  {
   "cell_type": "code",
   "execution_count": 91,
   "metadata": {},
   "outputs": [
    {
     "data": {
      "image/png": "[encoded data removed]",
      "text/plain": [
       "<Figure size 640x480 with 1 Axes>"
      ]
     },
     "metadata": {},
     "output_type": "display_data"
    }
   ],
   "source": [
    "custom_palette2 = sns.color_palette(\"viridis\", len(df['Rating'].unique()))\n",
    "ax = sns.barplot(data=df, x=\"Rating\", y=\"compound\", hue=\"Rating\", palette=custom_palette2, legend=False) #errorbar=None\n",
    "ax.set_title(\"Wynik analizy sentymentu porównany z ratingiem od uzytkownika\")\n",
    "ax.set_ylabel(\"Ocena sentymentu (compound)\")\n",
    "ax.set_xlabel(\"Rating przyznany przez użytkownika\")\n",
    "plt.show()"
   ]
  },
  {
   "cell_type": "markdown",
   "metadata": {},
   "source": [
    "W wykresach słupkowych w Seabornie cienkie czarne linie domyślnie oznaczają 95% przedział ufności. Dla każdego słupka pokazują one zakres, w którym, z pewnym stopniem pewności (tutaj 95%), prawdopodobnie znajduje się prawdziwa wartość dla całej populacji. Im dłuższa linia, tym większy jest przedział ufności, co oznacza większe rozrzucenie możliwych wartości populacyjnych wokół estymowanej średniej."
   ]
  },
  {
   "cell_type": "markdown",
   "metadata": {},
   "source": [
    "Powyższy wykres obrazuje zakres wartości compound z analizy sentymentu dla danych z poszczególnym ratingiem przyznanym przez użytkownika.\n",
    "\n",
    "Dla przypomnienia wartość compound z analizy sentymentu Vader oznacza ogólny wynik sentymentu, który łączy wszystkie wartości pos, neu i neg w jedną w przedziale od -1 do 1, gdzie -1 to jednoznacznie negatywny sentyment, a + 1 pozytywny.\n",
    "\n",
    "Wartości Rating zostały przyznane przez użytkowników tworzących recenzje, które są wpisane do kolumny Review. Kolumna Rating jest więc wyznacznikiem, który może pomóc określić czy Review pozostawione przez użytkownika ma wydźwięk pozytywny, negatywny, czy neutralny.\n",
    "\n",
    "Założyć można, że oceny Rating w zakresie 4 do 5 mogą kojarzone być z sentymentem pozytywnym, oceny 1 do 2  negatywnym a ocena 3 z nautralnym."
   ]
  },
  {
   "cell_type": "markdown",
   "metadata": {},
   "source": [
    "Na wykresie widać, że:\n",
    "1) oceny 1 miały ogólny wynik \"compound\" wokół średnie -1,3\n",
    "2) oceny 2 plasowały się od około średniej 0.4\n",
    "3) oceny 3 wartość średnia miary compound wynosi ok 0.8\n",
    "4) oceny 4 to średnia ok 0.9\n",
    "5) oceny 5 nieco wyższa niż oceny 4."
   ]
  },
  {
   "cell_type": "code",
   "execution_count": 92,
   "metadata": {},
   "outputs": [
    {
     "data": {
      "image/png": "[encoded data removed]",
      "text/plain": [
       "<Figure size 1200x300 with 3 Axes>"
      ]
     },
     "metadata": {},
     "output_type": "display_data"
    }
   ],
   "source": [
    "fig, axs = plt.subplots(1, 3, figsize=(12, 3))\n",
    "sns.barplot(data=df, x=\"Rating\", y=\"pos\", hue=\"Rating\", palette=custom_palette2, legend=False, ax=axs[0], errorbar=None)\n",
    "sns.barplot(data=df, x=\"Rating\", y=\"neu\", hue=\"Rating\", palette=custom_palette2, legend=False, ax=axs[1], errorbar=None)\n",
    "sns.barplot(data=df, x=\"Rating\", y=\"neg\", hue=\"Rating\", palette=custom_palette2, legend=False, ax=axs[2], errorbar=None)\n",
    "axs[0].set_title(\"Pozytywny\")\n",
    "axs[1].set_title(\"Neutralny\")\n",
    "axs[2].set_title(\"Negatywny\")\n",
    "plt.tight_layout()\n",
    "plt.show()"
   ]
  },
  {
   "cell_type": "markdown",
   "metadata": {},
   "source": [
    "Powyższe wykresy obrazują, jak wygląda wynik analizy sentymentu przy pomocy narzędzia Vader, dla poszczególnych atrybutów wskazywanych przez algorytm, czy atrybutu:\n",
    "1) \"pos\" oznaczającego sentyment pozytywny\n",
    "2) \"neu\" czyli sentyment neutralny\n",
    "3) \"neg\" czyli sentyment negatywny.\n",
    "\n",
    "Na osi X znajdują się ponownie oceny przyznane przez użytkowników w kolumnie Rating z zakresu 1 do 5."
   ]
  },
  {
   "cell_type": "markdown",
   "metadata": {},
   "source": [
    "Na wykresie widać, że wskaźnik pos wzrasta liniowo wraz ze wzorstem ocen rating.\n",
    "Przeciwnie, wzkaźnik neg maleje liniowo wraz ze wzrostem oceny Rating.\n",
    "Wskaźnik neu jest bardziej wypłaszczony, jednak ma tendencję malejącą wraz ze wzrostem oceny Rating."
   ]
  },
  {
   "cell_type": "markdown",
   "metadata": {},
   "source": [
    "Powyższe dane mogą być wykorzystane do próby zgadnięcia oceny liczbowej lub oceny sentymentu i porównania z oryginalnymi ocenami Rating dla każdego wpisu."
   ]
  },
  {
   "cell_type": "markdown",
   "metadata": {},
   "source": [
    "## <span style=\"color:#c125ea \"> Próba przyznania sentymentu na podstawie wskaźników uzyskanych przy pomocy biblioteki Vader i porównywanie ich do sentymentu przyznanego na podstawie kolumny Rating </span>"
   ]
  },
  {
   "cell_type": "markdown",
   "metadata": {},
   "source": [
    "### <span style=\"color: #25ea3a\"> Stworzenie nowej kolumny z senstymentem zależnym od oceny użytownika w kolumnie Rating  </span>"
   ]
  },
  {
   "cell_type": "markdown",
   "metadata": {},
   "source": [
    "Stworzę nową kolumnę w df, która wskaże jaki sentyment ma wpis danego użytkownika. Wskazanie sentymentu w tej kolumnie odbywać się będzie jedynie na podstawie oceny użytkownika w kolumnie Rating, przy założeniach:\n",
    "1) Oceny 1, 2 - sentyment negatywny\n",
    "2) Ocena 3 - sentyment neutralny\n",
    "3) Ocena 4, 5 - sentyment pozytywny"
   ]
  },
  {
   "cell_type": "code",
   "execution_count": 93,
   "metadata": {},
   "outputs": [],
   "source": [
    "def map_sentiment(rating):\n",
    "    if rating in [1, 2]:\n",
    "        return 'negatywny'\n",
    "    elif rating == 3:\n",
    "        return 'neutralny'\n",
    "    elif rating in [4, 5]:\n",
    "        return 'pozytywny'\n",
    "    else:\n",
    "        return 'brak_sentimentu'"
   ]
  },
  {
   "cell_type": "code",
   "execution_count": 94,
   "metadata": {},
   "outputs": [],
   "source": [
    "df['Sentyment_od_Ratingu'] = df['Rating'].apply(map_sentiment)"
   ]
  },
  {
   "cell_type": "code",
   "execution_count": 95,
   "metadata": {},
   "outputs": [],
   "source": [
    "# Przesunięcie kolumny na 3 pozycję od lewej\n",
    "cols = list(df.columns)\n",
    "cols = cols[:2] + ['Sentyment_od_Ratingu'] + cols[2:-1]\n",
    "df = df[cols]"
   ]
  },
  {
   "cell_type": "code",
   "execution_count": 96,
   "metadata": {},
   "outputs": [
    {
     "data": {
      "text/html": [
       "<div>\n",
       "<style scoped>\n",
       "    .dataframe tbody tr th:only-of-type {\n",
       "        vertical-align: middle;\n",
       "    }\n",
       "\n",
       "    .dataframe tbody tr th {\n",
       "        vertical-align: top;\n",
       "    }\n",
       "\n",
       "    .dataframe thead th {\n",
       "        text-align: right;\n",
       "    }\n",
       "</style>\n",
       "<table border=\"1\" class=\"dataframe\">\n",
       "  <thead>\n",
       "    <tr style=\"text-align: right;\">\n",
       "      <th></th>\n",
       "      <th>Review</th>\n",
       "      <th>Rating</th>\n",
       "      <th>Sentyment_od_Ratingu</th>\n",
       "      <th>neg</th>\n",
       "      <th>neu</th>\n",
       "      <th>pos</th>\n",
       "      <th>compound</th>\n",
       "    </tr>\n",
       "  </thead>\n",
       "  <tbody>\n",
       "    <tr>\n",
       "      <th>0</th>\n",
       "      <td>nice hotel expensive parking got good deal sta...</td>\n",
       "      <td>4</td>\n",
       "      <td>pozytywny</td>\n",
       "      <td>0.072</td>\n",
       "      <td>0.640</td>\n",
       "      <td>0.288</td>\n",
       "      <td>0.9747</td>\n",
       "    </tr>\n",
       "    <tr>\n",
       "      <th>1</th>\n",
       "      <td>ok nothing special charge diamond member hilto...</td>\n",
       "      <td>2</td>\n",
       "      <td>negatywny</td>\n",
       "      <td>0.112</td>\n",
       "      <td>0.696</td>\n",
       "      <td>0.192</td>\n",
       "      <td>0.9787</td>\n",
       "    </tr>\n",
       "    <tr>\n",
       "      <th>2</th>\n",
       "      <td>nice rooms not experience hotel monaco seattle...</td>\n",
       "      <td>3</td>\n",
       "      <td>neutralny</td>\n",
       "      <td>0.076</td>\n",
       "      <td>0.685</td>\n",
       "      <td>0.240</td>\n",
       "      <td>0.9910</td>\n",
       "    </tr>\n",
       "    <tr>\n",
       "      <th>3</th>\n",
       "      <td>unique great stay wonderful time hotel monaco ...</td>\n",
       "      <td>5</td>\n",
       "      <td>pozytywny</td>\n",
       "      <td>0.017</td>\n",
       "      <td>0.549</td>\n",
       "      <td>0.433</td>\n",
       "      <td>0.9946</td>\n",
       "    </tr>\n",
       "    <tr>\n",
       "      <th>4</th>\n",
       "      <td>great stay great stay went seahawk game awesom...</td>\n",
       "      <td>5</td>\n",
       "      <td>pozytywny</td>\n",
       "      <td>0.104</td>\n",
       "      <td>0.637</td>\n",
       "      <td>0.258</td>\n",
       "      <td>0.9906</td>\n",
       "    </tr>\n",
       "  </tbody>\n",
       "</table>\n",
       "</div>"
      ],
      "text/plain": [
       "                                              Review  Rating  \\\n",
       "0  nice hotel expensive parking got good deal sta...       4   \n",
       "1  ok nothing special charge diamond member hilto...       2   \n",
       "2  nice rooms not experience hotel monaco seattle...       3   \n",
       "3  unique great stay wonderful time hotel monaco ...       5   \n",
       "4  great stay great stay went seahawk game awesom...       5   \n",
       "\n",
       "  Sentyment_od_Ratingu    neg    neu    pos  compound  \n",
       "0            pozytywny  0.072  0.640  0.288    0.9747  \n",
       "1            negatywny  0.112  0.696  0.192    0.9787  \n",
       "2            neutralny  0.076  0.685  0.240    0.9910  \n",
       "3            pozytywny  0.017  0.549  0.433    0.9946  \n",
       "4            pozytywny  0.104  0.637  0.258    0.9906  "
      ]
     },
     "execution_count": 96,
     "metadata": {},
     "output_type": "execute_result"
    }
   ],
   "source": [
    "df.head()"
   ]
  },
  {
   "cell_type": "code",
   "execution_count": 97,
   "metadata": {},
   "outputs": [
    {
     "data": {
      "text/plain": [
       "Sentyment_od_Ratingu\n",
       "pozytywny    15093\n",
       "negatywny     3214\n",
       "neutralny     2184\n",
       "Name: count, dtype: int64"
      ]
     },
     "execution_count": 97,
     "metadata": {},
     "output_type": "execute_result"
    }
   ],
   "source": [
    "df[\"Sentyment_od_Ratingu\"].value_counts()\n",
    "# Liczba rekordów w df z określonym na bazie kolumny Rating sentymentem"
   ]
  },
  {
   "cell_type": "markdown",
   "metadata": {},
   "source": [
    "### <span style=\"color: #25ea3a\"> Próba wskazania sentymentu na bazie wskaźnika **compound** </span>"
   ]
  },
  {
   "cell_type": "markdown",
   "metadata": {},
   "source": [
    "#### Obliczenie dla jakich wartości **\"compound\"** przyznawać określony sentyment"
   ]
  },
  {
   "cell_type": "code",
   "execution_count": 98,
   "metadata": {},
   "outputs": [],
   "source": [
    "# Grupowanie danych po 'Rating' i obliczenie średniej oraz odchylenia standardowego\n",
    "grouped = df.groupby('Rating')['compound']\n",
    "mean = grouped.mean()\n",
    "std = grouped.std()\n",
    "count = grouped.count()\n",
    "\n",
    "# Obliczenie przedziału ufności dla średnich z kolumny \"compound\"\n",
    "confidence_interval = 1.96 * (std / count.pow(0.5))  # Dla 95% przedziału ufności\n",
    "\n",
    "# Tworzenie tabeli z wartościami przedziału ufności\n",
    "confidence_interval_df = pd.DataFrame({\n",
    "    'Rating': mean.index,\n",
    "    'Średnia z compound': mean.values,\n",
    "    'Przedział ufności +/-': confidence_interval.values\n",
    "})\n",
    "\n",
    "# Dodanie do ramki danych górnego i dolnej wartości z przedziału ufności\n",
    "confidence_interval_df['Dolny przedział ufności'] = confidence_interval_df['Średnia z compound'] - confidence_interval_df['Przedział ufności +/-']\n",
    "confidence_interval_df['Górny przedział ufności'] = confidence_interval_df['Średnia z compound'] + confidence_interval_df['Przedział ufności +/-']"
   ]
  },
  {
   "cell_type": "code",
   "execution_count": 99,
   "metadata": {},
   "outputs": [
    {
     "data": {
      "text/html": [
       "<div>\n",
       "<style scoped>\n",
       "    .dataframe tbody tr th:only-of-type {\n",
       "        vertical-align: middle;\n",
       "    }\n",
       "\n",
       "    .dataframe tbody tr th {\n",
       "        vertical-align: top;\n",
       "    }\n",
       "\n",
       "    .dataframe thead th {\n",
       "        text-align: right;\n",
       "    }\n",
       "</style>\n",
       "<table border=\"1\" class=\"dataframe\">\n",
       "  <thead>\n",
       "    <tr style=\"text-align: right;\">\n",
       "      <th></th>\n",
       "      <th>Rating</th>\n",
       "      <th>Średnia z compound</th>\n",
       "      <th>Przedział ufności +/-</th>\n",
       "      <th>Dolny przedział ufności</th>\n",
       "      <th>Górny przedział ufności</th>\n",
       "    </tr>\n",
       "  </thead>\n",
       "  <tbody>\n",
       "    <tr>\n",
       "      <th>0</th>\n",
       "      <td>1</td>\n",
       "      <td>-0.134023</td>\n",
       "      <td>0.038740</td>\n",
       "      <td>-0.172763</td>\n",
       "      <td>-0.095283</td>\n",
       "    </tr>\n",
       "    <tr>\n",
       "      <th>1</th>\n",
       "      <td>2</td>\n",
       "      <td>0.410197</td>\n",
       "      <td>0.031721</td>\n",
       "      <td>0.378476</td>\n",
       "      <td>0.441918</td>\n",
       "    </tr>\n",
       "    <tr>\n",
       "      <th>2</th>\n",
       "      <td>3</td>\n",
       "      <td>0.781829</td>\n",
       "      <td>0.017111</td>\n",
       "      <td>0.764718</td>\n",
       "      <td>0.798940</td>\n",
       "    </tr>\n",
       "    <tr>\n",
       "      <th>3</th>\n",
       "      <td>4</td>\n",
       "      <td>0.937204</td>\n",
       "      <td>0.004113</td>\n",
       "      <td>0.933091</td>\n",
       "      <td>0.941318</td>\n",
       "    </tr>\n",
       "    <tr>\n",
       "      <th>4</th>\n",
       "      <td>5</td>\n",
       "      <td>0.958613</td>\n",
       "      <td>0.002423</td>\n",
       "      <td>0.956190</td>\n",
       "      <td>0.961037</td>\n",
       "    </tr>\n",
       "  </tbody>\n",
       "</table>\n",
       "</div>"
      ],
      "text/plain": [
       "   Rating  Średnia z compound  Przedział ufności +/-  Dolny przedział ufności  \\\n",
       "0       1           -0.134023               0.038740                -0.172763   \n",
       "1       2            0.410197               0.031721                 0.378476   \n",
       "2       3            0.781829               0.017111                 0.764718   \n",
       "3       4            0.937204               0.004113                 0.933091   \n",
       "4       5            0.958613               0.002423                 0.956190   \n",
       "\n",
       "   Górny przedział ufności  \n",
       "0                -0.095283  \n",
       "1                 0.441918  \n",
       "2                 0.798940  \n",
       "3                 0.941318  \n",
       "4                 0.961037  "
      ]
     },
     "execution_count": 99,
     "metadata": {},
     "output_type": "execute_result"
    }
   ],
   "source": [
    "confidence_interval_df\n"
   ]
  },
  {
   "cell_type": "markdown",
   "metadata": {},
   "source": [
    "#### Określanie sentymentu na podstawie kolumny **\"compound\"**"
   ]
  },
  {
   "cell_type": "code",
   "execution_count": 100,
   "metadata": {},
   "outputs": [],
   "source": [
    "def map__compound_sentiment(compound):\n",
    "    if -1 <= compound <= 0.441918:\n",
    "        return 'negatywny'\n",
    "    elif 0.441918 < compound <= 0.798940:\n",
    "        return 'neutralny'\n",
    "    elif compound > 0.798940:\n",
    "        return 'pozytywny'\n",
    "    else:\n",
    "        return 'brak_sentymentu'"
   ]
  },
  {
   "cell_type": "code",
   "execution_count": 101,
   "metadata": {},
   "outputs": [],
   "source": [
    "df['Sentyment_od_compound'] = df['compound'].apply(map__compound_sentiment)"
   ]
  },
  {
   "cell_type": "code",
   "execution_count": 103,
   "metadata": {},
   "outputs": [
    {
     "data": {
      "text/plain": [
       "Sentyment_od_compound\n",
       "pozytywny    17338\n",
       "negatywny     2045\n",
       "neutralny     1108\n",
       "Name: count, dtype: int64"
      ]
     },
     "execution_count": 103,
     "metadata": {},
     "output_type": "execute_result"
    }
   ],
   "source": [
    "df[\"Sentyment_od_compound\"].value_counts()"
   ]
  },
  {
   "cell_type": "markdown",
   "metadata": {},
   "source": [
    "#### Sprawdzenie ile rekordów zostało zakwalifikowanych do sentymentu zgodnego z tym określonym przez ocenę użytkownika w kolumnie Rating na bazie wskaźnika **\"compound\"**"
   ]
  },
  {
   "cell_type": "code",
   "execution_count": 168,
   "metadata": {},
   "outputs": [],
   "source": [
    "pasujace = df[df['Sentyment_od_Ratingu'] == df['Sentyment_od_compound']]\n",
    "pasujace_comp_count = (pasujace.groupby(['Sentyment_od_Ratingu', 'Sentyment_od_compound'])\n",
    "                 .size()\n",
    "                 .reset_index(name='Ilość pasujacych rekordów'))"
   ]
  },
  {
   "cell_type": "code",
   "execution_count": 170,
   "metadata": {},
   "outputs": [
    {
     "data": {
      "text/html": [
       "<div>\n",
       "<style scoped>\n",
       "    .dataframe tbody tr th:only-of-type {\n",
       "        vertical-align: middle;\n",
       "    }\n",
       "\n",
       "    .dataframe tbody tr th {\n",
       "        vertical-align: top;\n",
       "    }\n",
       "\n",
       "    .dataframe thead th {\n",
       "        text-align: right;\n",
       "    }\n",
       "</style>\n",
       "<table border=\"1\" class=\"dataframe\">\n",
       "  <thead>\n",
       "    <tr style=\"text-align: right;\">\n",
       "      <th></th>\n",
       "      <th>Sentyment_od_Ratingu</th>\n",
       "      <th>Sentyment_od_compound</th>\n",
       "      <th>Ilość pasujacych rekordów</th>\n",
       "    </tr>\n",
       "  </thead>\n",
       "  <tbody>\n",
       "    <tr>\n",
       "      <th>0</th>\n",
       "      <td>negatywny</td>\n",
       "      <td>negatywny</td>\n",
       "      <td>1602</td>\n",
       "    </tr>\n",
       "    <tr>\n",
       "      <th>1</th>\n",
       "      <td>neutralny</td>\n",
       "      <td>neutralny</td>\n",
       "      <td>233</td>\n",
       "    </tr>\n",
       "    <tr>\n",
       "      <th>2</th>\n",
       "      <td>pozytywny</td>\n",
       "      <td>pozytywny</td>\n",
       "      <td>14468</td>\n",
       "    </tr>\n",
       "  </tbody>\n",
       "</table>\n",
       "</div>"
      ],
      "text/plain": [
       "  Sentyment_od_Ratingu Sentyment_od_compound  Ilość pasujacych rekordów\n",
       "0            negatywny             negatywny                       1602\n",
       "1            neutralny             neutralny                        233\n",
       "2            pozytywny             pozytywny                      14468"
      ]
     },
     "execution_count": 170,
     "metadata": {},
     "output_type": "execute_result"
    }
   ],
   "source": [
    "pasujace_comp_count"
   ]
  },
  {
   "cell_type": "code",
   "execution_count": 172,
   "metadata": {},
   "outputs": [],
   "source": [
    "pasujace_comp_count.drop(columns=['Sentyment_od_compound'], inplace=True)"
   ]
  },
  {
   "cell_type": "code",
   "execution_count": 173,
   "metadata": {},
   "outputs": [],
   "source": [
    "pasujace_comp_count.rename(columns={\"Sentyment_od_Ratingu\":\"Sentyment\"}, inplace=True)"
   ]
  },
  {
   "cell_type": "code",
   "execution_count": 174,
   "metadata": {},
   "outputs": [],
   "source": [
    "pasujace_comp_count.set_index(['Sentyment'], inplace=True)"
   ]
  },
  {
   "cell_type": "code",
   "execution_count": 177,
   "metadata": {},
   "outputs": [],
   "source": [
    "pasujace_comp_count.rename(columns={\"Ilość pasujacych rekordów\":\"Zgodna ocena sentymentu dla Compound\"}, inplace= True)"
   ]
  },
  {
   "cell_type": "code",
   "execution_count": 178,
   "metadata": {},
   "outputs": [
    {
     "data": {
      "text/html": [
       "<div>\n",
       "<style scoped>\n",
       "    .dataframe tbody tr th:only-of-type {\n",
       "        vertical-align: middle;\n",
       "    }\n",
       "\n",
       "    .dataframe tbody tr th {\n",
       "        vertical-align: top;\n",
       "    }\n",
       "\n",
       "    .dataframe thead th {\n",
       "        text-align: right;\n",
       "    }\n",
       "</style>\n",
       "<table border=\"1\" class=\"dataframe\">\n",
       "  <thead>\n",
       "    <tr style=\"text-align: right;\">\n",
       "      <th></th>\n",
       "      <th>Zgodna ocena sentymentu dla Compound</th>\n",
       "    </tr>\n",
       "    <tr>\n",
       "      <th>Sentyment</th>\n",
       "      <th></th>\n",
       "    </tr>\n",
       "  </thead>\n",
       "  <tbody>\n",
       "    <tr>\n",
       "      <th>negatywny</th>\n",
       "      <td>1602</td>\n",
       "    </tr>\n",
       "    <tr>\n",
       "      <th>neutralny</th>\n",
       "      <td>233</td>\n",
       "    </tr>\n",
       "    <tr>\n",
       "      <th>pozytywny</th>\n",
       "      <td>14468</td>\n",
       "    </tr>\n",
       "  </tbody>\n",
       "</table>\n",
       "</div>"
      ],
      "text/plain": [
       "           Zgodna ocena sentymentu dla Compound\n",
       "Sentyment                                      \n",
       "negatywny                                  1602\n",
       "neutralny                                   233\n",
       "pozytywny                                 14468"
      ]
     },
     "execution_count": 178,
     "metadata": {},
     "output_type": "execute_result"
    }
   ],
   "source": [
    "pasujace_comp_count"
   ]
  },
  {
   "cell_type": "markdown",
   "metadata": {},
   "source": [
    "### <span style=\"color: #25ea3a\"> Próba wskazania sentymentu na bazie wskaźnika **pos** </span>"
   ]
  },
  {
   "cell_type": "markdown",
   "metadata": {},
   "source": [
    "#### Obliczanie dla jakich wartości **\"pos\"** przyznawać określony sentyment"
   ]
  },
  {
   "cell_type": "code",
   "execution_count": 119,
   "metadata": {},
   "outputs": [],
   "source": [
    "# Grupowanie danych po 'Rating' i obliczenie średniej oraz odchylenia standardowego\n",
    "grouped = df.groupby('Rating')['pos']\n",
    "mean = grouped.mean()\n",
    "std = grouped.std()\n",
    "count = grouped.count()\n",
    "\n",
    "# Obliczenie przedziału ufności dla średnich z kolumny \"pos\"\n",
    "confidence_interval = 1.96 * (std / count.pow(0.5))  # Dla 95% przedziału ufności\n",
    "\n",
    "# Tworzenie tabeli z wartościami przedziału ufności\n",
    "confidence_interval_df = pd.DataFrame({\n",
    "    'Rating': mean.index,\n",
    "    'Średnia z pos': mean.values,\n",
    "    'Przedział ufności +/-': confidence_interval.values\n",
    "})\n",
    "\n",
    "# Dodanie do ramki danych górnego i dolnej wartości z przedziału ufności\n",
    "confidence_interval_df['Dolny przedział ufności'] = confidence_interval_df['Średnia z pos'] - confidence_interval_df['Przedział ufności +/-']\n",
    "confidence_interval_df['Górny przedział ufności'] = confidence_interval_df['Średnia z pos'] + confidence_interval_df['Przedział ufności +/-']"
   ]
  },
  {
   "cell_type": "code",
   "execution_count": 120,
   "metadata": {},
   "outputs": [
    {
     "data": {
      "text/html": [
       "<div>\n",
       "<style scoped>\n",
       "    .dataframe tbody tr th:only-of-type {\n",
       "        vertical-align: middle;\n",
       "    }\n",
       "\n",
       "    .dataframe tbody tr th {\n",
       "        vertical-align: top;\n",
       "    }\n",
       "\n",
       "    .dataframe thead th {\n",
       "        text-align: right;\n",
       "    }\n",
       "</style>\n",
       "<table border=\"1\" class=\"dataframe\">\n",
       "  <thead>\n",
       "    <tr style=\"text-align: right;\">\n",
       "      <th></th>\n",
       "      <th>Rating</th>\n",
       "      <th>Średnia z pos</th>\n",
       "      <th>Przedział ufności +/-</th>\n",
       "      <th>Dolny przedział ufności</th>\n",
       "      <th>Górny przedział ufności</th>\n",
       "    </tr>\n",
       "  </thead>\n",
       "  <tbody>\n",
       "    <tr>\n",
       "      <th>0</th>\n",
       "      <td>1</td>\n",
       "      <td>0.145700</td>\n",
       "      <td>0.003766</td>\n",
       "      <td>0.141934</td>\n",
       "      <td>0.149465</td>\n",
       "    </tr>\n",
       "    <tr>\n",
       "      <th>1</th>\n",
       "      <td>2</td>\n",
       "      <td>0.193166</td>\n",
       "      <td>0.003648</td>\n",
       "      <td>0.189517</td>\n",
       "      <td>0.196814</td>\n",
       "    </tr>\n",
       "    <tr>\n",
       "      <th>2</th>\n",
       "      <td>3</td>\n",
       "      <td>0.258782</td>\n",
       "      <td>0.003928</td>\n",
       "      <td>0.254854</td>\n",
       "      <td>0.262710</td>\n",
       "    </tr>\n",
       "    <tr>\n",
       "      <th>3</th>\n",
       "      <td>4</td>\n",
       "      <td>0.332121</td>\n",
       "      <td>0.002635</td>\n",
       "      <td>0.329486</td>\n",
       "      <td>0.334756</td>\n",
       "    </tr>\n",
       "    <tr>\n",
       "      <th>4</th>\n",
       "      <td>5</td>\n",
       "      <td>0.372683</td>\n",
       "      <td>0.002263</td>\n",
       "      <td>0.370419</td>\n",
       "      <td>0.374946</td>\n",
       "    </tr>\n",
       "  </tbody>\n",
       "</table>\n",
       "</div>"
      ],
      "text/plain": [
       "   Rating  Średnia z pos  Przedział ufności +/-  Dolny przedział ufności  \\\n",
       "0       1       0.145700               0.003766                 0.141934   \n",
       "1       2       0.193166               0.003648                 0.189517   \n",
       "2       3       0.258782               0.003928                 0.254854   \n",
       "3       4       0.332121               0.002635                 0.329486   \n",
       "4       5       0.372683               0.002263                 0.370419   \n",
       "\n",
       "   Górny przedział ufności  \n",
       "0                 0.149465  \n",
       "1                 0.196814  \n",
       "2                 0.262710  \n",
       "3                 0.334756  \n",
       "4                 0.374946  "
      ]
     },
     "execution_count": 120,
     "metadata": {},
     "output_type": "execute_result"
    }
   ],
   "source": [
    "confidence_interval_df"
   ]
  },
  {
   "cell_type": "markdown",
   "metadata": {},
   "source": [
    "#### Określanie sentymentu na podstawie **\"pos\"**"
   ]
  },
  {
   "cell_type": "code",
   "execution_count": 121,
   "metadata": {},
   "outputs": [],
   "source": [
    "def map__pos_sentiment(pos):\n",
    "    if -1 <= pos < 0.254854:\n",
    "        return 'negatywny'\n",
    "    elif 0.254854 <= pos <= 0.262710:\n",
    "        return 'neutralny'\n",
    "    elif pos > 0.262710:\n",
    "        return 'pozytywny'\n",
    "    else:\n",
    "        return 'brak_sentymentu'"
   ]
  },
  {
   "cell_type": "code",
   "execution_count": 122,
   "metadata": {},
   "outputs": [],
   "source": [
    "df['Sentyment_od_pos'] = df['pos'].apply(map__pos_sentiment)"
   ]
  },
  {
   "cell_type": "code",
   "execution_count": 123,
   "metadata": {},
   "outputs": [
    {
     "data": {
      "text/plain": [
       "Sentyment_od_pos\n",
       "pozytywny    13501\n",
       "negatywny     6467\n",
       "neutralny      523\n",
       "Name: count, dtype: int64"
      ]
     },
     "execution_count": 123,
     "metadata": {},
     "output_type": "execute_result"
    }
   ],
   "source": [
    "df[\"Sentyment_od_pos\"].value_counts()"
   ]
  },
  {
   "cell_type": "markdown",
   "metadata": {},
   "source": [
    "#### Sprawdzenie ile rekordów zostało zakwalifikowanych do sentymentu zgodnego z tym określonym przez ocenę użytkownika w kolumnie Rating na bazie wskaźnika **\"pos\"**"
   ]
  },
  {
   "cell_type": "code",
   "execution_count": 124,
   "metadata": {},
   "outputs": [],
   "source": [
    "pasujace_pos = df[df['Sentyment_od_Ratingu'] == df['Sentyment_od_pos']]\n",
    "pasujace_pos_count = (pasujace_pos.groupby(['Sentyment_od_Ratingu', 'Sentyment_od_pos'])\n",
    "                 .size()\n",
    "                 .reset_index(name='Ilość pasujacych rekordów'))"
   ]
  },
  {
   "cell_type": "code",
   "execution_count": 125,
   "metadata": {},
   "outputs": [
    {
     "data": {
      "text/html": [
       "<div>\n",
       "<style scoped>\n",
       "    .dataframe tbody tr th:only-of-type {\n",
       "        vertical-align: middle;\n",
       "    }\n",
       "\n",
       "    .dataframe tbody tr th {\n",
       "        vertical-align: top;\n",
       "    }\n",
       "\n",
       "    .dataframe thead th {\n",
       "        text-align: right;\n",
       "    }\n",
       "</style>\n",
       "<table border=\"1\" class=\"dataframe\">\n",
       "  <thead>\n",
       "    <tr style=\"text-align: right;\">\n",
       "      <th></th>\n",
       "      <th>Sentyment_od_Ratingu</th>\n",
       "      <th>Sentyment_od_pos</th>\n",
       "      <th>Ilość pasujacych rekordów</th>\n",
       "    </tr>\n",
       "  </thead>\n",
       "  <tbody>\n",
       "    <tr>\n",
       "      <th>0</th>\n",
       "      <td>negatywny</td>\n",
       "      <td>negatywny</td>\n",
       "      <td>2763</td>\n",
       "    </tr>\n",
       "    <tr>\n",
       "      <th>1</th>\n",
       "      <td>neutralny</td>\n",
       "      <td>neutralny</td>\n",
       "      <td>72</td>\n",
       "    </tr>\n",
       "    <tr>\n",
       "      <th>2</th>\n",
       "      <td>pozytywny</td>\n",
       "      <td>pozytywny</td>\n",
       "      <td>12151</td>\n",
       "    </tr>\n",
       "  </tbody>\n",
       "</table>\n",
       "</div>"
      ],
      "text/plain": [
       "  Sentyment_od_Ratingu Sentyment_od_pos  Ilość pasujacych rekordów\n",
       "0            negatywny        negatywny                       2763\n",
       "1            neutralny        neutralny                         72\n",
       "2            pozytywny        pozytywny                      12151"
      ]
     },
     "execution_count": 125,
     "metadata": {},
     "output_type": "execute_result"
    }
   ],
   "source": [
    "pasujace_pos_count"
   ]
  },
  {
   "cell_type": "code",
   "execution_count": 133,
   "metadata": {},
   "outputs": [],
   "source": [
    "pasujace_pos_count.drop(columns=['Sentyment_od_pos'], inplace=True)"
   ]
  },
  {
   "cell_type": "code",
   "execution_count": 138,
   "metadata": {},
   "outputs": [],
   "source": [
    "pasujace_pos_count.rename(columns={\"Sentyment_od_Ratingu\":\"Sentyment\"}, inplace=True)"
   ]
  },
  {
   "cell_type": "code",
   "execution_count": 139,
   "metadata": {},
   "outputs": [],
   "source": [
    "pasujace_pos_count.set_index(['Sentyment'], inplace=True)"
   ]
  },
  {
   "cell_type": "code",
   "execution_count": 175,
   "metadata": {},
   "outputs": [],
   "source": [
    "pasujace_pos_count.rename(columns={\"Ilość pasujacych rekordów\":\"Zgodna ocena sentymentu dla POS\"}, inplace=True)"
   ]
  },
  {
   "cell_type": "code",
   "execution_count": 176,
   "metadata": {},
   "outputs": [
    {
     "data": {
      "text/html": [
       "<div>\n",
       "<style scoped>\n",
       "    .dataframe tbody tr th:only-of-type {\n",
       "        vertical-align: middle;\n",
       "    }\n",
       "\n",
       "    .dataframe tbody tr th {\n",
       "        vertical-align: top;\n",
       "    }\n",
       "\n",
       "    .dataframe thead th {\n",
       "        text-align: right;\n",
       "    }\n",
       "</style>\n",
       "<table border=\"1\" class=\"dataframe\">\n",
       "  <thead>\n",
       "    <tr style=\"text-align: right;\">\n",
       "      <th></th>\n",
       "      <th>Zgodna ocena sentymentu dla POS</th>\n",
       "    </tr>\n",
       "    <tr>\n",
       "      <th>Sentyment</th>\n",
       "      <th></th>\n",
       "    </tr>\n",
       "  </thead>\n",
       "  <tbody>\n",
       "    <tr>\n",
       "      <th>negatywny</th>\n",
       "      <td>2763</td>\n",
       "    </tr>\n",
       "    <tr>\n",
       "      <th>neutralny</th>\n",
       "      <td>72</td>\n",
       "    </tr>\n",
       "    <tr>\n",
       "      <th>pozytywny</th>\n",
       "      <td>12151</td>\n",
       "    </tr>\n",
       "  </tbody>\n",
       "</table>\n",
       "</div>"
      ],
      "text/plain": [
       "           Zgodna ocena sentymentu dla POS\n",
       "Sentyment                                 \n",
       "negatywny                             2763\n",
       "neutralny                               72\n",
       "pozytywny                            12151"
      ]
     },
     "execution_count": 176,
     "metadata": {},
     "output_type": "execute_result"
    }
   ],
   "source": [
    "pasujace_pos_count"
   ]
  },
  {
   "cell_type": "markdown",
   "metadata": {},
   "source": [
    "### <span style=\"color: #25ea3a\"> Próba wskazania sentymentu na bazie wskaźnika **neg** </span>"
   ]
  },
  {
   "cell_type": "markdown",
   "metadata": {},
   "source": [
    "#### Obliczanie dla jakich wartości **\"neg\"** przyznawać określony sentyment"
   ]
  },
  {
   "cell_type": "code",
   "execution_count": 126,
   "metadata": {},
   "outputs": [],
   "source": [
    "# Grupowanie danych po 'Rating' i obliczenie średniej oraz odchylenia standardowego\n",
    "grouped = df.groupby('Rating')['neg']\n",
    "mean = grouped.mean()\n",
    "std = grouped.std()\n",
    "count = grouped.count()\n",
    "\n",
    "# Obliczenie przedziału ufności dla średnich z kolumny \"neg\"\n",
    "confidence_interval = 1.96 * (std / count.pow(0.5))  # Dla 95% przedziału ufności\n",
    "\n",
    "# Tworzenie tabeli z wartościami przedziału ufności\n",
    "confidence_interval_df = pd.DataFrame({\n",
    "    'Rating': mean.index,\n",
    "    'Średnia z neg': mean.values,\n",
    "    'Przedział ufności +/-': confidence_interval.values\n",
    "})\n",
    "\n",
    "# Dodanie do ramki danych górnego i dolnej wartości z przedziału ufności\n",
    "confidence_interval_df['Dolny przedział ufności'] = confidence_interval_df['Średnia z neg'] - confidence_interval_df['Przedział ufności +/-']\n",
    "confidence_interval_df['Górny przedział ufności'] = confidence_interval_df['Średnia z neg'] + confidence_interval_df['Przedział ufności +/-']"
   ]
  },
  {
   "cell_type": "code",
   "execution_count": 127,
   "metadata": {},
   "outputs": [
    {
     "data": {
      "text/html": [
       "<div>\n",
       "<style scoped>\n",
       "    .dataframe tbody tr th:only-of-type {\n",
       "        vertical-align: middle;\n",
       "    }\n",
       "\n",
       "    .dataframe tbody tr th {\n",
       "        vertical-align: top;\n",
       "    }\n",
       "\n",
       "    .dataframe thead th {\n",
       "        text-align: right;\n",
       "    }\n",
       "</style>\n",
       "<table border=\"1\" class=\"dataframe\">\n",
       "  <thead>\n",
       "    <tr style=\"text-align: right;\">\n",
       "      <th></th>\n",
       "      <th>Rating</th>\n",
       "      <th>Średnia z neg</th>\n",
       "      <th>Przedział ufności +/-</th>\n",
       "      <th>Dolny przedział ufności</th>\n",
       "      <th>Górny przedział ufności</th>\n",
       "    </tr>\n",
       "  </thead>\n",
       "  <tbody>\n",
       "    <tr>\n",
       "      <th>0</th>\n",
       "      <td>1</td>\n",
       "      <td>0.183267</td>\n",
       "      <td>0.004443</td>\n",
       "      <td>0.178824</td>\n",
       "      <td>0.187711</td>\n",
       "    </tr>\n",
       "    <tr>\n",
       "      <th>1</th>\n",
       "      <td>2</td>\n",
       "      <td>0.135006</td>\n",
       "      <td>0.003112</td>\n",
       "      <td>0.131894</td>\n",
       "      <td>0.138118</td>\n",
       "    </tr>\n",
       "    <tr>\n",
       "      <th>2</th>\n",
       "      <td>3</td>\n",
       "      <td>0.092440</td>\n",
       "      <td>0.002475</td>\n",
       "      <td>0.089965</td>\n",
       "      <td>0.094915</td>\n",
       "    </tr>\n",
       "    <tr>\n",
       "      <th>3</th>\n",
       "      <td>4</td>\n",
       "      <td>0.059578</td>\n",
       "      <td>0.001195</td>\n",
       "      <td>0.058383</td>\n",
       "      <td>0.060773</td>\n",
       "    </tr>\n",
       "    <tr>\n",
       "      <th>4</th>\n",
       "      <td>5</td>\n",
       "      <td>0.043675</td>\n",
       "      <td>0.000871</td>\n",
       "      <td>0.042804</td>\n",
       "      <td>0.044546</td>\n",
       "    </tr>\n",
       "  </tbody>\n",
       "</table>\n",
       "</div>"
      ],
      "text/plain": [
       "   Rating  Średnia z neg  Przedział ufności +/-  Dolny przedział ufności  \\\n",
       "0       1       0.183267               0.004443                 0.178824   \n",
       "1       2       0.135006               0.003112                 0.131894   \n",
       "2       3       0.092440               0.002475                 0.089965   \n",
       "3       4       0.059578               0.001195                 0.058383   \n",
       "4       5       0.043675               0.000871                 0.042804   \n",
       "\n",
       "   Górny przedział ufności  \n",
       "0                 0.187711  \n",
       "1                 0.138118  \n",
       "2                 0.094915  \n",
       "3                 0.060773  \n",
       "4                 0.044546  "
      ]
     },
     "execution_count": 127,
     "metadata": {},
     "output_type": "execute_result"
    }
   ],
   "source": [
    "confidence_interval_df"
   ]
  },
  {
   "cell_type": "markdown",
   "metadata": {},
   "source": [
    "#### Określanie sentymentu na podstawie **\"neg\"**"
   ]
  },
  {
   "cell_type": "code",
   "execution_count": 128,
   "metadata": {},
   "outputs": [],
   "source": [
    "def map__neg_sentiment(neg):\n",
    "    if 0.138118 <= neg <= 1:\n",
    "        return 'negatywny'\n",
    "    elif 0.089965 <= neg < 0.138118:\n",
    "        return 'neutralny'\n",
    "    elif neg < 0.089965:\n",
    "        return 'pozytywny'\n",
    "    else:\n",
    "        return 'brak_sentymentu'"
   ]
  },
  {
   "cell_type": "code",
   "execution_count": 129,
   "metadata": {},
   "outputs": [],
   "source": [
    "df['Sentyment_od_neg'] = df['neg'].apply(map__neg_sentiment)"
   ]
  },
  {
   "cell_type": "code",
   "execution_count": 130,
   "metadata": {},
   "outputs": [
    {
     "data": {
      "text/plain": [
       "Sentyment_od_neg\n",
       "pozytywny    14150\n",
       "neutralny     3553\n",
       "negatywny     2788\n",
       "Name: count, dtype: int64"
      ]
     },
     "execution_count": 130,
     "metadata": {},
     "output_type": "execute_result"
    }
   ],
   "source": [
    "df[\"Sentyment_od_neg\"].value_counts()"
   ]
  },
  {
   "cell_type": "markdown",
   "metadata": {},
   "source": [
    "#### Sprawdzenie ile rekordów zostało zakwalifikowanych do sentymentu zgodnego z tym określonym przez ocenę użytkownika w kolumnie Rating na bazie wskaźnika **\"neg\"**"
   ]
  },
  {
   "cell_type": "code",
   "execution_count": 131,
   "metadata": {},
   "outputs": [],
   "source": [
    "pasujace_neg = df[df['Sentyment_od_Ratingu'] == df['Sentyment_od_neg']]\n",
    "pasujace_neg_count = (pasujace_neg.groupby(['Sentyment_od_Ratingu', 'Sentyment_od_neg'])\n",
    "                 .size()\n",
    "                 .reset_index(name='Ilość pasujacych rekordów'))"
   ]
  },
  {
   "cell_type": "code",
   "execution_count": 132,
   "metadata": {},
   "outputs": [
    {
     "data": {
      "text/html": [
       "<div>\n",
       "<style scoped>\n",
       "    .dataframe tbody tr th:only-of-type {\n",
       "        vertical-align: middle;\n",
       "    }\n",
       "\n",
       "    .dataframe tbody tr th {\n",
       "        vertical-align: top;\n",
       "    }\n",
       "\n",
       "    .dataframe thead th {\n",
       "        text-align: right;\n",
       "    }\n",
       "</style>\n",
       "<table border=\"1\" class=\"dataframe\">\n",
       "  <thead>\n",
       "    <tr style=\"text-align: right;\">\n",
       "      <th></th>\n",
       "      <th>Sentyment_od_Ratingu</th>\n",
       "      <th>Sentyment_od_neg</th>\n",
       "      <th>Ilość pasujacych rekordów</th>\n",
       "    </tr>\n",
       "  </thead>\n",
       "  <tbody>\n",
       "    <tr>\n",
       "      <th>0</th>\n",
       "      <td>negatywny</td>\n",
       "      <td>negatywny</td>\n",
       "      <td>1735</td>\n",
       "    </tr>\n",
       "    <tr>\n",
       "      <th>1</th>\n",
       "      <td>neutralny</td>\n",
       "      <td>neutralny</td>\n",
       "      <td>633</td>\n",
       "    </tr>\n",
       "    <tr>\n",
       "      <th>2</th>\n",
       "      <td>pozytywny</td>\n",
       "      <td>pozytywny</td>\n",
       "      <td>12446</td>\n",
       "    </tr>\n",
       "  </tbody>\n",
       "</table>\n",
       "</div>"
      ],
      "text/plain": [
       "  Sentyment_od_Ratingu Sentyment_od_neg  Ilość pasujacych rekordów\n",
       "0            negatywny        negatywny                       1735\n",
       "1            neutralny        neutralny                        633\n",
       "2            pozytywny        pozytywny                      12446"
      ]
     },
     "execution_count": 132,
     "metadata": {},
     "output_type": "execute_result"
    }
   ],
   "source": [
    "pasujace_neg_count"
   ]
  },
  {
   "cell_type": "code",
   "execution_count": 141,
   "metadata": {},
   "outputs": [],
   "source": [
    "pasujace_neg_count.drop(columns=['Sentyment_od_neg'], inplace=True)"
   ]
  },
  {
   "cell_type": "code",
   "execution_count": 144,
   "metadata": {},
   "outputs": [],
   "source": [
    "pasujace_neg_count.rename(columns={\"Sentyment_od_Ratingu\":\"Sentyment\"}, inplace=True)"
   ]
  },
  {
   "cell_type": "code",
   "execution_count": 145,
   "metadata": {},
   "outputs": [],
   "source": [
    "pasujace_neg_count.set_index(['Sentyment'], inplace=True)"
   ]
  },
  {
   "cell_type": "code",
   "execution_count": 147,
   "metadata": {},
   "outputs": [],
   "source": [
    "pasujace_neg_count.rename(columns={\"Ilość pasujacych rekordów\":\"Zgodna ocena sentymentu dla NEG\"}, inplace=True)"
   ]
  },
  {
   "cell_type": "code",
   "execution_count": 148,
   "metadata": {},
   "outputs": [
    {
     "data": {
      "text/html": [
       "<div>\n",
       "<style scoped>\n",
       "    .dataframe tbody tr th:only-of-type {\n",
       "        vertical-align: middle;\n",
       "    }\n",
       "\n",
       "    .dataframe tbody tr th {\n",
       "        vertical-align: top;\n",
       "    }\n",
       "\n",
       "    .dataframe thead th {\n",
       "        text-align: right;\n",
       "    }\n",
       "</style>\n",
       "<table border=\"1\" class=\"dataframe\">\n",
       "  <thead>\n",
       "    <tr style=\"text-align: right;\">\n",
       "      <th></th>\n",
       "      <th>Zgodna ocena sentymentu dla NEG</th>\n",
       "    </tr>\n",
       "    <tr>\n",
       "      <th>Sentyment</th>\n",
       "      <th></th>\n",
       "    </tr>\n",
       "  </thead>\n",
       "  <tbody>\n",
       "    <tr>\n",
       "      <th>negatywny</th>\n",
       "      <td>1735</td>\n",
       "    </tr>\n",
       "    <tr>\n",
       "      <th>neutralny</th>\n",
       "      <td>633</td>\n",
       "    </tr>\n",
       "    <tr>\n",
       "      <th>pozytywny</th>\n",
       "      <td>12446</td>\n",
       "    </tr>\n",
       "  </tbody>\n",
       "</table>\n",
       "</div>"
      ],
      "text/plain": [
       "           Zgodna ocena sentymentu dla NEG\n",
       "Sentyment                                 \n",
       "negatywny                             1735\n",
       "neutralny                              633\n",
       "pozytywny                            12446"
      ]
     },
     "execution_count": 148,
     "metadata": {},
     "output_type": "execute_result"
    }
   ],
   "source": [
    "pasujace_neg_count"
   ]
  },
  {
   "cell_type": "markdown",
   "metadata": {},
   "source": [
    "### <span style=\"color: #25ea3a\"> Podsumowanie, porównanie wyników na bazie 3 wskaźników </span>"
   ]
  },
  {
   "cell_type": "code",
   "execution_count": 188,
   "metadata": {},
   "outputs": [],
   "source": [
    "# Liczenie liczby etykiet \"pozytywne\", \"neutralne\", \"negatywne\" w kolumnie 'Sentyment_od_Ratingu'\n",
    "rating_sentiment_count = df['Sentyment_od_Ratingu'].value_counts().reset_index()\n",
    "rating_sentiment_count.columns = ['Sentyment', 'Na podstawie Rating']\n",
    "rating_sentiment_count.set_index(['Sentyment'], inplace=True)\n"
   ]
  },
  {
   "cell_type": "code",
   "execution_count": 192,
   "metadata": {},
   "outputs": [],
   "source": [
    "podsumowanie = rating_sentiment_count.join(pasujace_comp_count)\n",
    "podsumowanie = podsumowanie.join(pasujace_pos_count)\n",
    "podsumowanie = podsumowanie.join(pasujace_neg_count)"
   ]
  },
  {
   "cell_type": "code",
   "execution_count": 193,
   "metadata": {},
   "outputs": [
    {
     "data": {
      "text/html": [
       "<div>\n",
       "<style scoped>\n",
       "    .dataframe tbody tr th:only-of-type {\n",
       "        vertical-align: middle;\n",
       "    }\n",
       "\n",
       "    .dataframe tbody tr th {\n",
       "        vertical-align: top;\n",
       "    }\n",
       "\n",
       "    .dataframe thead th {\n",
       "        text-align: right;\n",
       "    }\n",
       "</style>\n",
       "<table border=\"1\" class=\"dataframe\">\n",
       "  <thead>\n",
       "    <tr style=\"text-align: right;\">\n",
       "      <th></th>\n",
       "      <th>Na podstawie Rating</th>\n",
       "      <th>Zgodna ocena sentymentu dla Compound</th>\n",
       "      <th>Zgodna ocena sentymentu dla POS</th>\n",
       "      <th>Zgodna ocena sentymentu dla NEG</th>\n",
       "    </tr>\n",
       "    <tr>\n",
       "      <th>Sentyment</th>\n",
       "      <th></th>\n",
       "      <th></th>\n",
       "      <th></th>\n",
       "      <th></th>\n",
       "    </tr>\n",
       "  </thead>\n",
       "  <tbody>\n",
       "    <tr>\n",
       "      <th>pozytywny</th>\n",
       "      <td>15093</td>\n",
       "      <td>14468</td>\n",
       "      <td>12151</td>\n",
       "      <td>12446</td>\n",
       "    </tr>\n",
       "    <tr>\n",
       "      <th>negatywny</th>\n",
       "      <td>3214</td>\n",
       "      <td>1602</td>\n",
       "      <td>2763</td>\n",
       "      <td>1735</td>\n",
       "    </tr>\n",
       "    <tr>\n",
       "      <th>neutralny</th>\n",
       "      <td>2184</td>\n",
       "      <td>233</td>\n",
       "      <td>72</td>\n",
       "      <td>633</td>\n",
       "    </tr>\n",
       "  </tbody>\n",
       "</table>\n",
       "</div>"
      ],
      "text/plain": [
       "           Na podstawie Rating  Zgodna ocena sentymentu dla Compound  \\\n",
       "Sentyment                                                              \n",
       "pozytywny                15093                                 14468   \n",
       "negatywny                 3214                                  1602   \n",
       "neutralny                 2184                                   233   \n",
       "\n",
       "           Zgodna ocena sentymentu dla POS  Zgodna ocena sentymentu dla NEG  \n",
       "Sentyment                                                                    \n",
       "pozytywny                            12151                            12446  \n",
       "negatywny                             2763                             1735  \n",
       "neutralny                               72                              633  "
      ]
     },
     "execution_count": 193,
     "metadata": {},
     "output_type": "execute_result"
    }
   ],
   "source": [
    "podsumowanie"
   ]
  },
  {
   "cell_type": "code",
   "execution_count": 201,
   "metadata": {},
   "outputs": [],
   "source": [
    "wartosci_procentowe = podsumowanie.copy()"
   ]
  },
  {
   "cell_type": "code",
   "execution_count": 202,
   "metadata": {},
   "outputs": [],
   "source": [
    "for column in wartosci_procentowe.columns[1:]:\n",
    "    wartosci_procentowe[column] = round((wartosci_procentowe[column] / wartosci_procentowe['Na podstawie Rating']) * 100, 2)"
   ]
  },
  {
   "cell_type": "code",
   "execution_count": 203,
   "metadata": {},
   "outputs": [
    {
     "data": {
      "text/html": [
       "<div>\n",
       "<style scoped>\n",
       "    .dataframe tbody tr th:only-of-type {\n",
       "        vertical-align: middle;\n",
       "    }\n",
       "\n",
       "    .dataframe tbody tr th {\n",
       "        vertical-align: top;\n",
       "    }\n",
       "\n",
       "    .dataframe thead th {\n",
       "        text-align: right;\n",
       "    }\n",
       "</style>\n",
       "<table border=\"1\" class=\"dataframe\">\n",
       "  <thead>\n",
       "    <tr style=\"text-align: right;\">\n",
       "      <th></th>\n",
       "      <th>Na podstawie Rating</th>\n",
       "      <th>Zgodna ocena sentymentu dla Compound</th>\n",
       "      <th>Zgodna ocena sentymentu dla POS</th>\n",
       "      <th>Zgodna ocena sentymentu dla NEG</th>\n",
       "    </tr>\n",
       "    <tr>\n",
       "      <th>Sentyment</th>\n",
       "      <th></th>\n",
       "      <th></th>\n",
       "      <th></th>\n",
       "      <th></th>\n",
       "    </tr>\n",
       "  </thead>\n",
       "  <tbody>\n",
       "    <tr>\n",
       "      <th>pozytywny</th>\n",
       "      <td>15093</td>\n",
       "      <td>95.86</td>\n",
       "      <td>80.51</td>\n",
       "      <td>82.46</td>\n",
       "    </tr>\n",
       "    <tr>\n",
       "      <th>negatywny</th>\n",
       "      <td>3214</td>\n",
       "      <td>49.84</td>\n",
       "      <td>85.97</td>\n",
       "      <td>53.98</td>\n",
       "    </tr>\n",
       "    <tr>\n",
       "      <th>neutralny</th>\n",
       "      <td>2184</td>\n",
       "      <td>10.67</td>\n",
       "      <td>3.30</td>\n",
       "      <td>28.98</td>\n",
       "    </tr>\n",
       "  </tbody>\n",
       "</table>\n",
       "</div>"
      ],
      "text/plain": [
       "           Na podstawie Rating  Zgodna ocena sentymentu dla Compound  \\\n",
       "Sentyment                                                              \n",
       "pozytywny                15093                                 95.86   \n",
       "negatywny                 3214                                 49.84   \n",
       "neutralny                 2184                                 10.67   \n",
       "\n",
       "           Zgodna ocena sentymentu dla POS  Zgodna ocena sentymentu dla NEG  \n",
       "Sentyment                                                                    \n",
       "pozytywny                            80.51                            82.46  \n",
       "negatywny                            85.97                            53.98  \n",
       "neutralny                             3.30                            28.98  "
      ]
     },
     "execution_count": 203,
     "metadata": {},
     "output_type": "execute_result"
    }
   ],
   "source": [
    "wartosci_procentowe"
   ]
  },
  {
   "cell_type": "markdown",
   "metadata": {},
   "source": [
    "# <span style=\"color:#25dbea \"> Podsumowanie </span>"
   ]
  },
  {
   "cell_type": "code",
   "execution_count": 204,
   "metadata": {},
   "outputs": [
    {
     "data": {
      "text/html": [
       "<div>\n",
       "<style scoped>\n",
       "    .dataframe tbody tr th:only-of-type {\n",
       "        vertical-align: middle;\n",
       "    }\n",
       "\n",
       "    .dataframe tbody tr th {\n",
       "        vertical-align: top;\n",
       "    }\n",
       "\n",
       "    .dataframe thead th {\n",
       "        text-align: right;\n",
       "    }\n",
       "</style>\n",
       "<table border=\"1\" class=\"dataframe\">\n",
       "  <thead>\n",
       "    <tr style=\"text-align: right;\">\n",
       "      <th></th>\n",
       "      <th>Na podstawie Rating</th>\n",
       "      <th>Zgodna ocena sentymentu dla Compound</th>\n",
       "      <th>Zgodna ocena sentymentu dla POS</th>\n",
       "      <th>Zgodna ocena sentymentu dla NEG</th>\n",
       "    </tr>\n",
       "    <tr>\n",
       "      <th>Sentyment</th>\n",
       "      <th></th>\n",
       "      <th></th>\n",
       "      <th></th>\n",
       "      <th></th>\n",
       "    </tr>\n",
       "  </thead>\n",
       "  <tbody>\n",
       "    <tr>\n",
       "      <th>pozytywny</th>\n",
       "      <td>15093</td>\n",
       "      <td>14468</td>\n",
       "      <td>12151</td>\n",
       "      <td>12446</td>\n",
       "    </tr>\n",
       "    <tr>\n",
       "      <th>negatywny</th>\n",
       "      <td>3214</td>\n",
       "      <td>1602</td>\n",
       "      <td>2763</td>\n",
       "      <td>1735</td>\n",
       "    </tr>\n",
       "    <tr>\n",
       "      <th>neutralny</th>\n",
       "      <td>2184</td>\n",
       "      <td>233</td>\n",
       "      <td>72</td>\n",
       "      <td>633</td>\n",
       "    </tr>\n",
       "  </tbody>\n",
       "</table>\n",
       "</div>"
      ],
      "text/plain": [
       "           Na podstawie Rating  Zgodna ocena sentymentu dla Compound  \\\n",
       "Sentyment                                                              \n",
       "pozytywny                15093                                 14468   \n",
       "negatywny                 3214                                  1602   \n",
       "neutralny                 2184                                   233   \n",
       "\n",
       "           Zgodna ocena sentymentu dla POS  Zgodna ocena sentymentu dla NEG  \n",
       "Sentyment                                                                    \n",
       "pozytywny                            12151                            12446  \n",
       "negatywny                             2763                             1735  \n",
       "neutralny                               72                              633  "
      ]
     },
     "execution_count": 204,
     "metadata": {},
     "output_type": "execute_result"
    }
   ],
   "source": [
    "podsumowanie"
   ]
  },
  {
   "cell_type": "code",
   "execution_count": 205,
   "metadata": {},
   "outputs": [
    {
     "data": {
      "text/html": [
       "<div>\n",
       "<style scoped>\n",
       "    .dataframe tbody tr th:only-of-type {\n",
       "        vertical-align: middle;\n",
       "    }\n",
       "\n",
       "    .dataframe tbody tr th {\n",
       "        vertical-align: top;\n",
       "    }\n",
       "\n",
       "    .dataframe thead th {\n",
       "        text-align: right;\n",
       "    }\n",
       "</style>\n",
       "<table border=\"1\" class=\"dataframe\">\n",
       "  <thead>\n",
       "    <tr style=\"text-align: right;\">\n",
       "      <th></th>\n",
       "      <th>Na podstawie Rating</th>\n",
       "      <th>Zgodna ocena sentymentu dla Compound</th>\n",
       "      <th>Zgodna ocena sentymentu dla POS</th>\n",
       "      <th>Zgodna ocena sentymentu dla NEG</th>\n",
       "    </tr>\n",
       "    <tr>\n",
       "      <th>Sentyment</th>\n",
       "      <th></th>\n",
       "      <th></th>\n",
       "      <th></th>\n",
       "      <th></th>\n",
       "    </tr>\n",
       "  </thead>\n",
       "  <tbody>\n",
       "    <tr>\n",
       "      <th>pozytywny</th>\n",
       "      <td>15093</td>\n",
       "      <td>95.86</td>\n",
       "      <td>80.51</td>\n",
       "      <td>82.46</td>\n",
       "    </tr>\n",
       "    <tr>\n",
       "      <th>negatywny</th>\n",
       "      <td>3214</td>\n",
       "      <td>49.84</td>\n",
       "      <td>85.97</td>\n",
       "      <td>53.98</td>\n",
       "    </tr>\n",
       "    <tr>\n",
       "      <th>neutralny</th>\n",
       "      <td>2184</td>\n",
       "      <td>10.67</td>\n",
       "      <td>3.30</td>\n",
       "      <td>28.98</td>\n",
       "    </tr>\n",
       "  </tbody>\n",
       "</table>\n",
       "</div>"
      ],
      "text/plain": [
       "           Na podstawie Rating  Zgodna ocena sentymentu dla Compound  \\\n",
       "Sentyment                                                              \n",
       "pozytywny                15093                                 95.86   \n",
       "negatywny                 3214                                 49.84   \n",
       "neutralny                 2184                                 10.67   \n",
       "\n",
       "           Zgodna ocena sentymentu dla POS  Zgodna ocena sentymentu dla NEG  \n",
       "Sentyment                                                                    \n",
       "pozytywny                            80.51                            82.46  \n",
       "negatywny                            85.97                            53.98  \n",
       "neutralny                             3.30                            28.98  "
      ]
     },
     "execution_count": 205,
     "metadata": {},
     "output_type": "execute_result"
    }
   ],
   "source": [
    "wartosci_procentowe"
   ]
  },
  {
   "cell_type": "markdown",
   "metadata": {},
   "source": [
    "Najlepiej poradziła sobie ocena sentymentu na bazie miary \"pos\" określającej pozytywny sentyment wypowiedzi.\n",
    "\n",
    "Przyporządkowując sentyment na bazie tej miary udało się osiągnąć wysoką zgodność z sentymentem przyznanym na bazie ocen użytkowników.\n",
    "\n",
    "Dla przypomnienia: Sentyment na bazie kolumny Rating, gdzie użytkownicy piszący recenzje stawiali ocenę w skali od 1 do 5. Założono, że oceny 1 - 2 oznaczają sentyment negatywny, ocena 3 - neutralny, a oceny 4 do 5 sentyemnt pozytywny.\n",
    "\n",
    "Próbując zgadnąć sentyment na podstawie samej wypowiedzi przy użyciu miary pos obliczanej przez algorytm Vader z biblioteki NLTK, uzyskano:\n",
    "1) 80,5% skuteczności w określaniu sentymentu pozytywnego\n",
    "2) 86% skuteczności w określaniu sentymentu negatywnego\n",
    "3) 3% skutecznośc w określaniu sentymentu neutralnego.\n",
    "\n",
    "\n",
    "Wyniki w przypadku skrajnych sentymentów wydaja się bardzo zadowalające biorąc pod uwagę, że model nie był wcześniej trenowany na tych danych. Jednocześniej dane zostąły poddane czyszczeniu.\n",
    "\n",
    "Wynik 3% dla sentymentu neutralnego wymagałby poprawy i testowania innych parametrów i zakresów.\n",
    "\n",
    "Dla przypomnienia: zakresy jak przyporządkowywać sentyment na bazie miar podjęto przez obliczenie średniej miar dla każdej z ocen z kolumny Rating, następnie obliczono 90% przedział ufności i granice wyznaczono na bazie górnego i dolnego przedziału ufności."
   ]
  },
  {
   "cell_type": "code",
   "execution_count": null,
   "metadata": {},
   "outputs": [],
   "source": []
  }
 ],
 "metadata": {
  "kernelspec": {
   "display_name": "Python 3",
   "language": "python",
   "name": "python3"
  },
  "language_info": {
   "codemirror_mode": {
    "name": "ipython",
    "version": 3
   },
   "file_extension": ".py",
   "mimetype": "text/x-python",
   "name": "python",
   "nbconvert_exporter": "python",
   "pygments_lexer": "ipython3",
   "version": "3.11.5"
  }
 },
 "nbformat": 4,
 "nbformat_minor": 2
}
